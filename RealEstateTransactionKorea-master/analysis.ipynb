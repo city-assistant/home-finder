{
 "metadata": {
  "language_info": {
   "codemirror_mode": {
    "name": "ipython",
    "version": 3
   },
   "file_extension": ".py",
   "mimetype": "text/x-python",
   "name": "python",
   "nbconvert_exporter": "python",
   "pygments_lexer": "ipython3",
   "version": "3.9.1-final"
  },
  "orig_nbformat": 2,
  "kernelspec": {
   "name": "python391jvsc74a57bd063fd5069d213b44bf678585dea6b12cceca9941eaf7f819626cde1f2670de90d",
   "display_name": "Python 3.9.1 64-bit"
  },
  "metadata": {
   "interpreter": {
    "hash": "63fd5069d213b44bf678585dea6b12cceca9941eaf7f819626cde1f2670de90d"
   }
  }
 },
 "nbformat": 4,
 "nbformat_minor": 2,
 "cells": [
  {
   "cell_type": "code",
   "execution_count": 2,
   "metadata": {},
   "outputs": [
    {
     "output_type": "stream",
     "name": "stdout",
     "text": [
      "단독다가구 매매.csv\n단독다가구 전월세.csv\n분양권.csv\n상업업무용 매매.csv\n아파트 매매.csv\n아파트 전월세.csv\n연립다세대 매매.csv\n연립다세대 전월세.csv\n오피스텔 매매.csv\n오피스텔 전월세.csv\n토지 매매.csv\n"
     ]
    }
   ],
   "source": [
    "import pandas as pd\n",
    "import matplotlib.pyplot as plt\n",
    "import sklearn\n",
    "import os\n",
    "\n",
    "dfList = {}\n",
    "\n",
    "for fileName in os.listdir('merged'):\n",
    "    print(fileName)"
   ]
  },
  {
   "cell_type": "code",
   "execution_count": 22,
   "metadata": {},
   "outputs": [
    {
     "output_type": "stream",
     "name": "stderr",
     "text": [
      "<ipython-input-22-d3f8c47d52a2>:5: UserWarning: Boolean Series key will be reindexed to match DataFrame index.\n  df[df['area'] < 80][df['rent'] < 50][df['시군구'].str.split(' ')[0] == '강원도']\n"
     ]
    },
    {
     "output_type": "error",
     "ename": "KeyError",
     "evalue": "False",
     "traceback": [
      "\u001b[1;31m---------------------------------------------------------------------------\u001b[0m",
      "\u001b[1;31mKeyError\u001b[0m                                  Traceback (most recent call last)",
      "\u001b[1;32mC:\\Python39\\lib\\site-packages\\pandas\\core\\indexes\\base.py\u001b[0m in \u001b[0;36mget_loc\u001b[1;34m(self, key, method, tolerance)\u001b[0m\n\u001b[0;32m   3079\u001b[0m             \u001b[1;32mtry\u001b[0m\u001b[1;33m:\u001b[0m\u001b[1;33m\u001b[0m\u001b[1;33m\u001b[0m\u001b[0m\n\u001b[1;32m-> 3080\u001b[1;33m                 \u001b[1;32mreturn\u001b[0m \u001b[0mself\u001b[0m\u001b[1;33m.\u001b[0m\u001b[0m_engine\u001b[0m\u001b[1;33m.\u001b[0m\u001b[0mget_loc\u001b[0m\u001b[1;33m(\u001b[0m\u001b[0mcasted_key\u001b[0m\u001b[1;33m)\u001b[0m\u001b[1;33m\u001b[0m\u001b[1;33m\u001b[0m\u001b[0m\n\u001b[0m\u001b[0;32m   3081\u001b[0m             \u001b[1;32mexcept\u001b[0m \u001b[0mKeyError\u001b[0m \u001b[1;32mas\u001b[0m \u001b[0merr\u001b[0m\u001b[1;33m:\u001b[0m\u001b[1;33m\u001b[0m\u001b[1;33m\u001b[0m\u001b[0m\n",
      "\u001b[1;32mpandas\\_libs\\index.pyx\u001b[0m in \u001b[0;36mpandas._libs.index.IndexEngine.get_loc\u001b[1;34m()\u001b[0m\n",
      "\u001b[1;32mpandas\\_libs\\index.pyx\u001b[0m in \u001b[0;36mpandas._libs.index.IndexEngine.get_loc\u001b[1;34m()\u001b[0m\n",
      "\u001b[1;32mpandas\\_libs\\hashtable_class_helper.pxi\u001b[0m in \u001b[0;36mpandas._libs.hashtable.PyObjectHashTable.get_item\u001b[1;34m()\u001b[0m\n",
      "\u001b[1;32mpandas\\_libs\\hashtable_class_helper.pxi\u001b[0m in \u001b[0;36mpandas._libs.hashtable.PyObjectHashTable.get_item\u001b[1;34m()\u001b[0m\n",
      "\u001b[1;31mKeyError\u001b[0m: False",
      "\nThe above exception was the direct cause of the following exception:\n",
      "\u001b[1;31mKeyError\u001b[0m                                  Traceback (most recent call last)",
      "\u001b[1;32m<ipython-input-22-d3f8c47d52a2>\u001b[0m in \u001b[0;36m<module>\u001b[1;34m\u001b[0m\n\u001b[0;32m      3\u001b[0m \u001b[1;31m# df = pd.read_csv('merged/단독다가구 전월세.csv', thousands = ',')\u001b[0m\u001b[1;33m\u001b[0m\u001b[1;33m\u001b[0m\u001b[1;33m\u001b[0m\u001b[0m\n\u001b[0;32m      4\u001b[0m \u001b[1;31m# df['시군구'] + ' ' + df['도로명']\u001b[0m\u001b[1;33m\u001b[0m\u001b[1;33m\u001b[0m\u001b[1;33m\u001b[0m\u001b[0m\n\u001b[1;32m----> 5\u001b[1;33m \u001b[0mdf\u001b[0m\u001b[1;33m[\u001b[0m\u001b[0mdf\u001b[0m\u001b[1;33m[\u001b[0m\u001b[1;34m'area'\u001b[0m\u001b[1;33m]\u001b[0m \u001b[1;33m<\u001b[0m \u001b[1;36m80\u001b[0m\u001b[1;33m]\u001b[0m\u001b[1;33m[\u001b[0m\u001b[0mdf\u001b[0m\u001b[1;33m[\u001b[0m\u001b[1;34m'rent'\u001b[0m\u001b[1;33m]\u001b[0m \u001b[1;33m<\u001b[0m \u001b[1;36m50\u001b[0m\u001b[1;33m]\u001b[0m\u001b[1;33m[\u001b[0m\u001b[0mdf\u001b[0m\u001b[1;33m[\u001b[0m\u001b[1;34m'시군구'\u001b[0m\u001b[1;33m]\u001b[0m\u001b[1;33m.\u001b[0m\u001b[0mstr\u001b[0m\u001b[1;33m.\u001b[0m\u001b[0msplit\u001b[0m\u001b[1;33m(\u001b[0m\u001b[1;34m' '\u001b[0m\u001b[1;33m)\u001b[0m\u001b[1;33m[\u001b[0m\u001b[1;36m0\u001b[0m\u001b[1;33m]\u001b[0m \u001b[1;33m==\u001b[0m \u001b[1;34m'강원도'\u001b[0m\u001b[1;33m]\u001b[0m\u001b[1;33m\u001b[0m\u001b[1;33m\u001b[0m\u001b[0m\n\u001b[0m",
      "\u001b[1;32mC:\\Python39\\lib\\site-packages\\pandas\\core\\frame.py\u001b[0m in \u001b[0;36m__getitem__\u001b[1;34m(self, key)\u001b[0m\n\u001b[0;32m   3022\u001b[0m             \u001b[1;32mif\u001b[0m \u001b[0mself\u001b[0m\u001b[1;33m.\u001b[0m\u001b[0mcolumns\u001b[0m\u001b[1;33m.\u001b[0m\u001b[0mnlevels\u001b[0m \u001b[1;33m>\u001b[0m \u001b[1;36m1\u001b[0m\u001b[1;33m:\u001b[0m\u001b[1;33m\u001b[0m\u001b[1;33m\u001b[0m\u001b[0m\n\u001b[0;32m   3023\u001b[0m                 \u001b[1;32mreturn\u001b[0m \u001b[0mself\u001b[0m\u001b[1;33m.\u001b[0m\u001b[0m_getitem_multilevel\u001b[0m\u001b[1;33m(\u001b[0m\u001b[0mkey\u001b[0m\u001b[1;33m)\u001b[0m\u001b[1;33m\u001b[0m\u001b[1;33m\u001b[0m\u001b[0m\n\u001b[1;32m-> 3024\u001b[1;33m             \u001b[0mindexer\u001b[0m \u001b[1;33m=\u001b[0m \u001b[0mself\u001b[0m\u001b[1;33m.\u001b[0m\u001b[0mcolumns\u001b[0m\u001b[1;33m.\u001b[0m\u001b[0mget_loc\u001b[0m\u001b[1;33m(\u001b[0m\u001b[0mkey\u001b[0m\u001b[1;33m)\u001b[0m\u001b[1;33m\u001b[0m\u001b[1;33m\u001b[0m\u001b[0m\n\u001b[0m\u001b[0;32m   3025\u001b[0m             \u001b[1;32mif\u001b[0m \u001b[0mis_integer\u001b[0m\u001b[1;33m(\u001b[0m\u001b[0mindexer\u001b[0m\u001b[1;33m)\u001b[0m\u001b[1;33m:\u001b[0m\u001b[1;33m\u001b[0m\u001b[1;33m\u001b[0m\u001b[0m\n\u001b[0;32m   3026\u001b[0m                 \u001b[0mindexer\u001b[0m \u001b[1;33m=\u001b[0m \u001b[1;33m[\u001b[0m\u001b[0mindexer\u001b[0m\u001b[1;33m]\u001b[0m\u001b[1;33m\u001b[0m\u001b[1;33m\u001b[0m\u001b[0m\n",
      "\u001b[1;32mC:\\Python39\\lib\\site-packages\\pandas\\core\\indexes\\base.py\u001b[0m in \u001b[0;36mget_loc\u001b[1;34m(self, key, method, tolerance)\u001b[0m\n\u001b[0;32m   3080\u001b[0m                 \u001b[1;32mreturn\u001b[0m \u001b[0mself\u001b[0m\u001b[1;33m.\u001b[0m\u001b[0m_engine\u001b[0m\u001b[1;33m.\u001b[0m\u001b[0mget_loc\u001b[0m\u001b[1;33m(\u001b[0m\u001b[0mcasted_key\u001b[0m\u001b[1;33m)\u001b[0m\u001b[1;33m\u001b[0m\u001b[1;33m\u001b[0m\u001b[0m\n\u001b[0;32m   3081\u001b[0m             \u001b[1;32mexcept\u001b[0m \u001b[0mKeyError\u001b[0m \u001b[1;32mas\u001b[0m \u001b[0merr\u001b[0m\u001b[1;33m:\u001b[0m\u001b[1;33m\u001b[0m\u001b[1;33m\u001b[0m\u001b[0m\n\u001b[1;32m-> 3082\u001b[1;33m                 \u001b[1;32mraise\u001b[0m \u001b[0mKeyError\u001b[0m\u001b[1;33m(\u001b[0m\u001b[0mkey\u001b[0m\u001b[1;33m)\u001b[0m \u001b[1;32mfrom\u001b[0m \u001b[0merr\u001b[0m\u001b[1;33m\u001b[0m\u001b[1;33m\u001b[0m\u001b[0m\n\u001b[0m\u001b[0;32m   3083\u001b[0m \u001b[1;33m\u001b[0m\u001b[0m\n\u001b[0;32m   3084\u001b[0m         \u001b[1;32mif\u001b[0m \u001b[0mtolerance\u001b[0m \u001b[1;32mis\u001b[0m \u001b[1;32mnot\u001b[0m \u001b[1;32mNone\u001b[0m\u001b[1;33m:\u001b[0m\u001b[1;33m\u001b[0m\u001b[1;33m\u001b[0m\u001b[0m\n",
      "\u001b[1;31mKeyError\u001b[0m: False"
     ]
    }
   ],
   "source": [
    "# df = pd.read_csv('merged/단독다가구 전월세.csv', thousands = ',')\n",
    "# df['시군구'] + ' ' + df['도로명']\n",
    "# df = pd.read_csv('merged/단독다가구 전월세.csv', thousands = ',')\n",
    "# df['시군구'] + ' ' + df['도로명']\n",
    "df[df['area'] < 80][df['rent'] < 50][df['시군구'].str.split(' ')[0] == '강원도']\n"
   ]
  },
  {
   "cell_type": "code",
   "execution_count": 35,
   "metadata": {},
   "outputs": [
    {
     "output_type": "execute_result",
     "data": {
      "text/plain": [
       "        Unnamed: 0            시군구 주택유형   도로조건    area  대지면적(㎡)  yyyymmdd  \\\n",
       "64437        64437  서울특별시 강남구 개포동  다가구   8m미만  415.33    180.0  20200313   \n",
       "64438        64438  서울특별시 강남구 개포동  다가구  12m미만  477.74    219.6  20201121   \n",
       "64439        64439  서울특별시 강남구 개포동   단독   8m미만  435.09    168.8  20200716   \n",
       "64440        64440  서울특별시 강남구 개포동   단독  12m미만  467.38    168.9  20200710   \n",
       "64441        64441  서울특별시 강남구 개포동   단독   8m미만  290.81    214.2  20200402   \n",
       "...            ...            ...  ...    ...     ...      ...       ...   \n",
       "291914      182988  서울특별시 강동구 강일동   단독   8m미만   19.83      NaN  20110630   \n",
       "291915      182989  서울특별시 강동구 강일동   단독   8m미만   69.42      NaN  20141017   \n",
       "291916      182990  서울특별시 강동구 강일동   단독   8m미만   85.95      NaN  20150701   \n",
       "291917      182991  서울특별시 강동구 강일동   단독   8m미만   61.00      NaN  20180302   \n",
       "291918      182992  서울특별시 강동구 강일동   단독   8m미만  103.86      NaN  20200310   \n",
       "\n",
       "         price  builtyear       도로명   번지   대지면적  \n",
       "64437   260000     1991.0    논현로18길  NaN    NaN  \n",
       "64438   385000     2003.0     논현로8길  NaN    NaN  \n",
       "64439   265000     1991.0     논현로6길  NaN    NaN  \n",
       "64440   250000     1990.0     논현로4길  NaN    NaN  \n",
       "64441   230000     1989.0     논현로8길  NaN    NaN  \n",
       "...        ...        ...       ...  ...    ...  \n",
       "291914  130000     1990.0  아리수로93가길   1*  682.0  \n",
       "291915   51000     1994.0  아리수로93가길  1**  142.0  \n",
       "291916   57000     1990.0  아리수로93가길   1*  242.0  \n",
       "291917  150000     1901.0  아리수로93가길  1**  658.0  \n",
       "291918  115000     1990.0  아리수로93가길   1*  337.0  \n",
       "\n",
       "[195042 rows x 12 columns]"
      ],
      "text/html": "<div>\n<style scoped>\n    .dataframe tbody tr th:only-of-type {\n        vertical-align: middle;\n    }\n\n    .dataframe tbody tr th {\n        vertical-align: top;\n    }\n\n    .dataframe thead th {\n        text-align: right;\n    }\n</style>\n<table border=\"1\" class=\"dataframe\">\n  <thead>\n    <tr style=\"text-align: right;\">\n      <th></th>\n      <th>Unnamed: 0</th>\n      <th>시군구</th>\n      <th>주택유형</th>\n      <th>도로조건</th>\n      <th>area</th>\n      <th>대지면적(㎡)</th>\n      <th>yyyymmdd</th>\n      <th>price</th>\n      <th>builtyear</th>\n      <th>도로명</th>\n      <th>번지</th>\n      <th>대지면적</th>\n    </tr>\n  </thead>\n  <tbody>\n    <tr>\n      <th>64437</th>\n      <td>64437</td>\n      <td>서울특별시 강남구 개포동</td>\n      <td>다가구</td>\n      <td>8m미만</td>\n      <td>415.33</td>\n      <td>180.0</td>\n      <td>20200313</td>\n      <td>260000</td>\n      <td>1991.0</td>\n      <td>논현로18길</td>\n      <td>NaN</td>\n      <td>NaN</td>\n    </tr>\n    <tr>\n      <th>64438</th>\n      <td>64438</td>\n      <td>서울특별시 강남구 개포동</td>\n      <td>다가구</td>\n      <td>12m미만</td>\n      <td>477.74</td>\n      <td>219.6</td>\n      <td>20201121</td>\n      <td>385000</td>\n      <td>2003.0</td>\n      <td>논현로8길</td>\n      <td>NaN</td>\n      <td>NaN</td>\n    </tr>\n    <tr>\n      <th>64439</th>\n      <td>64439</td>\n      <td>서울특별시 강남구 개포동</td>\n      <td>단독</td>\n      <td>8m미만</td>\n      <td>435.09</td>\n      <td>168.8</td>\n      <td>20200716</td>\n      <td>265000</td>\n      <td>1991.0</td>\n      <td>논현로6길</td>\n      <td>NaN</td>\n      <td>NaN</td>\n    </tr>\n    <tr>\n      <th>64440</th>\n      <td>64440</td>\n      <td>서울특별시 강남구 개포동</td>\n      <td>단독</td>\n      <td>12m미만</td>\n      <td>467.38</td>\n      <td>168.9</td>\n      <td>20200710</td>\n      <td>250000</td>\n      <td>1990.0</td>\n      <td>논현로4길</td>\n      <td>NaN</td>\n      <td>NaN</td>\n    </tr>\n    <tr>\n      <th>64441</th>\n      <td>64441</td>\n      <td>서울특별시 강남구 개포동</td>\n      <td>단독</td>\n      <td>8m미만</td>\n      <td>290.81</td>\n      <td>214.2</td>\n      <td>20200402</td>\n      <td>230000</td>\n      <td>1989.0</td>\n      <td>논현로8길</td>\n      <td>NaN</td>\n      <td>NaN</td>\n    </tr>\n    <tr>\n      <th>...</th>\n      <td>...</td>\n      <td>...</td>\n      <td>...</td>\n      <td>...</td>\n      <td>...</td>\n      <td>...</td>\n      <td>...</td>\n      <td>...</td>\n      <td>...</td>\n      <td>...</td>\n      <td>...</td>\n      <td>...</td>\n    </tr>\n    <tr>\n      <th>291914</th>\n      <td>182988</td>\n      <td>서울특별시 강동구 강일동</td>\n      <td>단독</td>\n      <td>8m미만</td>\n      <td>19.83</td>\n      <td>NaN</td>\n      <td>20110630</td>\n      <td>130000</td>\n      <td>1990.0</td>\n      <td>아리수로93가길</td>\n      <td>1*</td>\n      <td>682.0</td>\n    </tr>\n    <tr>\n      <th>291915</th>\n      <td>182989</td>\n      <td>서울특별시 강동구 강일동</td>\n      <td>단독</td>\n      <td>8m미만</td>\n      <td>69.42</td>\n      <td>NaN</td>\n      <td>20141017</td>\n      <td>51000</td>\n      <td>1994.0</td>\n      <td>아리수로93가길</td>\n      <td>1**</td>\n      <td>142.0</td>\n    </tr>\n    <tr>\n      <th>291916</th>\n      <td>182990</td>\n      <td>서울특별시 강동구 강일동</td>\n      <td>단독</td>\n      <td>8m미만</td>\n      <td>85.95</td>\n      <td>NaN</td>\n      <td>20150701</td>\n      <td>57000</td>\n      <td>1990.0</td>\n      <td>아리수로93가길</td>\n      <td>1*</td>\n      <td>242.0</td>\n    </tr>\n    <tr>\n      <th>291917</th>\n      <td>182991</td>\n      <td>서울특별시 강동구 강일동</td>\n      <td>단독</td>\n      <td>8m미만</td>\n      <td>61.00</td>\n      <td>NaN</td>\n      <td>20180302</td>\n      <td>150000</td>\n      <td>1901.0</td>\n      <td>아리수로93가길</td>\n      <td>1**</td>\n      <td>658.0</td>\n    </tr>\n    <tr>\n      <th>291918</th>\n      <td>182992</td>\n      <td>서울특별시 강동구 강일동</td>\n      <td>단독</td>\n      <td>8m미만</td>\n      <td>103.86</td>\n      <td>NaN</td>\n      <td>20200310</td>\n      <td>115000</td>\n      <td>1990.0</td>\n      <td>아리수로93가길</td>\n      <td>1*</td>\n      <td>337.0</td>\n    </tr>\n  </tbody>\n</table>\n<p>195042 rows × 12 columns</p>\n</div>"
     },
     "metadata": {},
     "execution_count": 35
    }
   ],
   "source": [
    "df2[df2['시군구'].str.startswith('서울')]"
   ]
  },
  {
   "cell_type": "code",
   "execution_count": 28,
   "metadata": {},
   "outputs": [
    {
     "output_type": "stream",
     "name": "stderr",
     "text": [
      "C:\\Users\\김재웅\\AppData\\Roaming\\Python\\Python39\\site-packages\\IPython\\core\\interactiveshell.py:3165: DtypeWarning: Columns (10) have mixed types.Specify dtype option on import or set low_memory=False.\n  has_raised = await self.run_ast_nodes(code_ast.body, cell_name,\n"
     ]
    },
    {
     "output_type": "execute_result",
     "data": {
      "text/plain": [
       "Empty DataFrame\n",
       "Columns: [Unnamed: 0, 시군구, 주택유형, 도로조건, area, 대지면적(㎡), yyyymmdd, price, builtyear, 도로명, 번지, 대지면적]\n",
       "Index: []"
      ],
      "text/html": "<div>\n<style scoped>\n    .dataframe tbody tr th:only-of-type {\n        vertical-align: middle;\n    }\n\n    .dataframe tbody tr th {\n        vertical-align: top;\n    }\n\n    .dataframe thead th {\n        text-align: right;\n    }\n</style>\n<table border=\"1\" class=\"dataframe\">\n  <thead>\n    <tr style=\"text-align: right;\">\n      <th></th>\n      <th>Unnamed: 0</th>\n      <th>시군구</th>\n      <th>주택유형</th>\n      <th>도로조건</th>\n      <th>area</th>\n      <th>대지면적(㎡)</th>\n      <th>yyyymmdd</th>\n      <th>price</th>\n      <th>builtyear</th>\n      <th>도로명</th>\n      <th>번지</th>\n      <th>대지면적</th>\n    </tr>\n  </thead>\n  <tbody>\n  </tbody>\n</table>\n</div>"
     },
     "metadata": {},
     "execution_count": 28
    }
   ],
   "source": [
    "# df2 = pd.read_csv('merged/단독다가구 매매.csv', thousands = ',')"
   ]
  },
  {
   "cell_type": "code",
   "execution_count": 21,
   "metadata": {},
   "outputs": [
    {
     "output_type": "execute_result",
     "data": {
      "text/plain": [
       "         Unnamed: 0                   시군구            단지명     area  price   층  \\\n",
       "0                 0           강원도 강릉시 내곡동   강릉 블루밍 더 베스트  49.9670  19193  18   \n",
       "1                 1           강원도 강릉시 내곡동      강릉자이 파인베뉴  94.3894  38800   2   \n",
       "2                 2           강원도 강릉시 내곡동      강릉자이 파인베뉴  94.4077  40900   3   \n",
       "3                 3           강원도 강릉시 내곡동      강릉자이 파인베뉴  84.9494  34900   3   \n",
       "4                 4           강원도 강릉시 내곡동      강릉자이 파인베뉴  94.3894  38600   4   \n",
       "...             ...                   ...            ...      ...    ...  ..   \n",
       "1259739     1156839  제주특별자치도 서귀포시 안덕면 화순리   서귀포화순코아루푸르나임  84.9455  30300   6   \n",
       "1259740     1156840  제주특별자치도 서귀포시 안덕면 화순리   서귀포화순코아루푸르나임  84.9455  29350   2   \n",
       "1259741     1156841  제주특별자치도 서귀포시 안덕면 화순리   서귀포화순코아루푸르나임  84.9455  27700   1   \n",
       "1259742     1156842  제주특별자치도 서귀포시 안덕면 화순리       산방산어반아르떼  84.8870  45200   1   \n",
       "1259743     1156843  제주특별자치도 서귀포시 안덕면 사계리  산방산 코아루 아이비타운  99.7397  63000   1   \n",
       "\n",
       "         yyyymmdd 분/입구분  builtyear    번지 분입구분  \n",
       "0        20200601     분        NaN   NaN  NaN  \n",
       "1        20210201     분        NaN   NaN  NaN  \n",
       "2        20210201     분        NaN   NaN  NaN  \n",
       "3        20210202     분        NaN   NaN  NaN  \n",
       "4        20210202     분        NaN   NaN  NaN  \n",
       "...           ...   ...        ...   ...  ...  \n",
       "1259739  20180205   NaN     2018.0  2133    분  \n",
       "1259740  20180206   NaN     2018.0  2133    분  \n",
       "1259741  20180417   NaN     2018.0  2133    분  \n",
       "1259742  20190218   NaN     2019.0  2134    분  \n",
       "1259743  20190610   NaN     2019.0  1677    분  \n",
       "\n",
       "[1259744 rows x 11 columns]"
      ],
      "text/html": "<div>\n<style scoped>\n    .dataframe tbody tr th:only-of-type {\n        vertical-align: middle;\n    }\n\n    .dataframe tbody tr th {\n        vertical-align: top;\n    }\n\n    .dataframe thead th {\n        text-align: right;\n    }\n</style>\n<table border=\"1\" class=\"dataframe\">\n  <thead>\n    <tr style=\"text-align: right;\">\n      <th></th>\n      <th>Unnamed: 0</th>\n      <th>시군구</th>\n      <th>단지명</th>\n      <th>area</th>\n      <th>price</th>\n      <th>층</th>\n      <th>yyyymmdd</th>\n      <th>분/입구분</th>\n      <th>builtyear</th>\n      <th>번지</th>\n      <th>분입구분</th>\n    </tr>\n  </thead>\n  <tbody>\n    <tr>\n      <th>0</th>\n      <td>0</td>\n      <td>강원도 강릉시 내곡동</td>\n      <td>강릉 블루밍 더 베스트</td>\n      <td>49.9670</td>\n      <td>19193</td>\n      <td>18</td>\n      <td>20200601</td>\n      <td>분</td>\n      <td>NaN</td>\n      <td>NaN</td>\n      <td>NaN</td>\n    </tr>\n    <tr>\n      <th>1</th>\n      <td>1</td>\n      <td>강원도 강릉시 내곡동</td>\n      <td>강릉자이 파인베뉴</td>\n      <td>94.3894</td>\n      <td>38800</td>\n      <td>2</td>\n      <td>20210201</td>\n      <td>분</td>\n      <td>NaN</td>\n      <td>NaN</td>\n      <td>NaN</td>\n    </tr>\n    <tr>\n      <th>2</th>\n      <td>2</td>\n      <td>강원도 강릉시 내곡동</td>\n      <td>강릉자이 파인베뉴</td>\n      <td>94.4077</td>\n      <td>40900</td>\n      <td>3</td>\n      <td>20210201</td>\n      <td>분</td>\n      <td>NaN</td>\n      <td>NaN</td>\n      <td>NaN</td>\n    </tr>\n    <tr>\n      <th>3</th>\n      <td>3</td>\n      <td>강원도 강릉시 내곡동</td>\n      <td>강릉자이 파인베뉴</td>\n      <td>84.9494</td>\n      <td>34900</td>\n      <td>3</td>\n      <td>20210202</td>\n      <td>분</td>\n      <td>NaN</td>\n      <td>NaN</td>\n      <td>NaN</td>\n    </tr>\n    <tr>\n      <th>4</th>\n      <td>4</td>\n      <td>강원도 강릉시 내곡동</td>\n      <td>강릉자이 파인베뉴</td>\n      <td>94.3894</td>\n      <td>38600</td>\n      <td>4</td>\n      <td>20210202</td>\n      <td>분</td>\n      <td>NaN</td>\n      <td>NaN</td>\n      <td>NaN</td>\n    </tr>\n    <tr>\n      <th>...</th>\n      <td>...</td>\n      <td>...</td>\n      <td>...</td>\n      <td>...</td>\n      <td>...</td>\n      <td>...</td>\n      <td>...</td>\n      <td>...</td>\n      <td>...</td>\n      <td>...</td>\n      <td>...</td>\n    </tr>\n    <tr>\n      <th>1259739</th>\n      <td>1156839</td>\n      <td>제주특별자치도 서귀포시 안덕면 화순리</td>\n      <td>서귀포화순코아루푸르나임</td>\n      <td>84.9455</td>\n      <td>30300</td>\n      <td>6</td>\n      <td>20180205</td>\n      <td>NaN</td>\n      <td>2018.0</td>\n      <td>2133</td>\n      <td>분</td>\n    </tr>\n    <tr>\n      <th>1259740</th>\n      <td>1156840</td>\n      <td>제주특별자치도 서귀포시 안덕면 화순리</td>\n      <td>서귀포화순코아루푸르나임</td>\n      <td>84.9455</td>\n      <td>29350</td>\n      <td>2</td>\n      <td>20180206</td>\n      <td>NaN</td>\n      <td>2018.0</td>\n      <td>2133</td>\n      <td>분</td>\n    </tr>\n    <tr>\n      <th>1259741</th>\n      <td>1156841</td>\n      <td>제주특별자치도 서귀포시 안덕면 화순리</td>\n      <td>서귀포화순코아루푸르나임</td>\n      <td>84.9455</td>\n      <td>27700</td>\n      <td>1</td>\n      <td>20180417</td>\n      <td>NaN</td>\n      <td>2018.0</td>\n      <td>2133</td>\n      <td>분</td>\n    </tr>\n    <tr>\n      <th>1259742</th>\n      <td>1156842</td>\n      <td>제주특별자치도 서귀포시 안덕면 화순리</td>\n      <td>산방산어반아르떼</td>\n      <td>84.8870</td>\n      <td>45200</td>\n      <td>1</td>\n      <td>20190218</td>\n      <td>NaN</td>\n      <td>2019.0</td>\n      <td>2134</td>\n      <td>분</td>\n    </tr>\n    <tr>\n      <th>1259743</th>\n      <td>1156843</td>\n      <td>제주특별자치도 서귀포시 안덕면 사계리</td>\n      <td>산방산 코아루 아이비타운</td>\n      <td>99.7397</td>\n      <td>63000</td>\n      <td>1</td>\n      <td>20190610</td>\n      <td>NaN</td>\n      <td>2019.0</td>\n      <td>1677</td>\n      <td>분</td>\n    </tr>\n  </tbody>\n</table>\n<p>1259744 rows × 11 columns</p>\n</div>"
     },
     "metadata": {},
     "execution_count": 21
    }
   ],
   "source": [
    "df"
   ]
  },
  {
   "cell_type": "code",
   "execution_count": 36,
   "metadata": {},
   "outputs": [
    {
     "output_type": "stream",
     "name": "stderr",
     "text": [
      "C:\\Users\\김재웅\\AppData\\Roaming\\Python\\Python39\\site-packages\\IPython\\core\\interactiveshell.py:3165: DtypeWarning: Columns (5,11) have mixed types.Specify dtype option on import or set low_memory=False.\n  has_raised = await self.run_ast_nodes(code_ast.body, cell_name,\n"
     ]
    },
    {
     "output_type": "execute_result",
     "data": {
      "text/plain": [
       "         Unnamed: 0                   시군구  도로조건    area 전월세구분      yyyymmdd  \\\n",
       "0                 0       강원도 강릉시 강동면 안인리  8m미만   79.30    월세  202007.005.0   \n",
       "1                 1       강원도 강릉시 강동면 안인리  8m미만  167.62    월세  202005.009.0   \n",
       "2                 2       강원도 강릉시 강동면 안인리  8m미만  167.62    월세  202005.009.0   \n",
       "3                 3       강원도 강릉시 강동면 임곡리  8m미만   45.70    월세  202005.031.0   \n",
       "4                 4      강원도 강릉시 강동면 하시동리  8m미만   50.00    전세  202010.022.0   \n",
       "...             ...                   ...   ...     ...   ...           ...   \n",
       "4024974     3622733  제주특별자치도 서귀포시 표선면 토산리  8m미만  101.48    전세      20170717   \n",
       "4024975     3622734  제주특별자치도 서귀포시 표선면 토산리  8m미만   96.95    전세      20180404   \n",
       "4024976     3622735  제주특별자치도 서귀포시 표선면 토산리  8m미만   66.00    전세      20181008   \n",
       "4024977     3622736  제주특별자치도 서귀포시 표선면 토산리     -   49.58    전세      20181113   \n",
       "4024978     3622737  제주특별자치도 서귀포시 표선면 토산리  8m미만   66.00    전세      20181202   \n",
       "\n",
       "         deposit  rent  builtyear         도로명    price    번지  \n",
       "0          300.0  40.0        NaN         NaN      NaN   NaN  \n",
       "1         2000.0  70.0     2011.0        원장봉길      NaN   NaN  \n",
       "2         2000.0  70.0     2011.0        원장봉길      NaN   NaN  \n",
       "3          100.0  10.0        NaN         임곡로      NaN   NaN  \n",
       "4         2500.0   0.0     1998.0         시동길      NaN   NaN  \n",
       "...          ...   ...        ...         ...      ...   ...  \n",
       "4024974   3000.0   0.0     2017.0         NaN   3000.0  1***  \n",
       "4024975   8000.0   0.0     2015.0        일주동로   8000.0   4**  \n",
       "4024976   3000.0   0.0     2018.0  일주동로6496번길   3000.0   4**  \n",
       "4024977  12000.0   0.0        NaN         NaN  12000.0   4**  \n",
       "4024978   3000.0   0.0     2018.0  일주동로6496번길   3000.0   4**  \n",
       "\n",
       "[4024979 rows x 12 columns]"
      ],
      "text/html": "<div>\n<style scoped>\n    .dataframe tbody tr th:only-of-type {\n        vertical-align: middle;\n    }\n\n    .dataframe tbody tr th {\n        vertical-align: top;\n    }\n\n    .dataframe thead th {\n        text-align: right;\n    }\n</style>\n<table border=\"1\" class=\"dataframe\">\n  <thead>\n    <tr style=\"text-align: right;\">\n      <th></th>\n      <th>Unnamed: 0</th>\n      <th>시군구</th>\n      <th>도로조건</th>\n      <th>area</th>\n      <th>전월세구분</th>\n      <th>yyyymmdd</th>\n      <th>deposit</th>\n      <th>rent</th>\n      <th>builtyear</th>\n      <th>도로명</th>\n      <th>price</th>\n      <th>번지</th>\n    </tr>\n  </thead>\n  <tbody>\n    <tr>\n      <th>0</th>\n      <td>0</td>\n      <td>강원도 강릉시 강동면 안인리</td>\n      <td>8m미만</td>\n      <td>79.30</td>\n      <td>월세</td>\n      <td>202007.005.0</td>\n      <td>300.0</td>\n      <td>40.0</td>\n      <td>NaN</td>\n      <td>NaN</td>\n      <td>NaN</td>\n      <td>NaN</td>\n    </tr>\n    <tr>\n      <th>1</th>\n      <td>1</td>\n      <td>강원도 강릉시 강동면 안인리</td>\n      <td>8m미만</td>\n      <td>167.62</td>\n      <td>월세</td>\n      <td>202005.009.0</td>\n      <td>2000.0</td>\n      <td>70.0</td>\n      <td>2011.0</td>\n      <td>원장봉길</td>\n      <td>NaN</td>\n      <td>NaN</td>\n    </tr>\n    <tr>\n      <th>2</th>\n      <td>2</td>\n      <td>강원도 강릉시 강동면 안인리</td>\n      <td>8m미만</td>\n      <td>167.62</td>\n      <td>월세</td>\n      <td>202005.009.0</td>\n      <td>2000.0</td>\n      <td>70.0</td>\n      <td>2011.0</td>\n      <td>원장봉길</td>\n      <td>NaN</td>\n      <td>NaN</td>\n    </tr>\n    <tr>\n      <th>3</th>\n      <td>3</td>\n      <td>강원도 강릉시 강동면 임곡리</td>\n      <td>8m미만</td>\n      <td>45.70</td>\n      <td>월세</td>\n      <td>202005.031.0</td>\n      <td>100.0</td>\n      <td>10.0</td>\n      <td>NaN</td>\n      <td>임곡로</td>\n      <td>NaN</td>\n      <td>NaN</td>\n    </tr>\n    <tr>\n      <th>4</th>\n      <td>4</td>\n      <td>강원도 강릉시 강동면 하시동리</td>\n      <td>8m미만</td>\n      <td>50.00</td>\n      <td>전세</td>\n      <td>202010.022.0</td>\n      <td>2500.0</td>\n      <td>0.0</td>\n      <td>1998.0</td>\n      <td>시동길</td>\n      <td>NaN</td>\n      <td>NaN</td>\n    </tr>\n    <tr>\n      <th>...</th>\n      <td>...</td>\n      <td>...</td>\n      <td>...</td>\n      <td>...</td>\n      <td>...</td>\n      <td>...</td>\n      <td>...</td>\n      <td>...</td>\n      <td>...</td>\n      <td>...</td>\n      <td>...</td>\n      <td>...</td>\n    </tr>\n    <tr>\n      <th>4024974</th>\n      <td>3622733</td>\n      <td>제주특별자치도 서귀포시 표선면 토산리</td>\n      <td>8m미만</td>\n      <td>101.48</td>\n      <td>전세</td>\n      <td>20170717</td>\n      <td>3000.0</td>\n      <td>0.0</td>\n      <td>2017.0</td>\n      <td>NaN</td>\n      <td>3000.0</td>\n      <td>1***</td>\n    </tr>\n    <tr>\n      <th>4024975</th>\n      <td>3622734</td>\n      <td>제주특별자치도 서귀포시 표선면 토산리</td>\n      <td>8m미만</td>\n      <td>96.95</td>\n      <td>전세</td>\n      <td>20180404</td>\n      <td>8000.0</td>\n      <td>0.0</td>\n      <td>2015.0</td>\n      <td>일주동로</td>\n      <td>8000.0</td>\n      <td>4**</td>\n    </tr>\n    <tr>\n      <th>4024976</th>\n      <td>3622735</td>\n      <td>제주특별자치도 서귀포시 표선면 토산리</td>\n      <td>8m미만</td>\n      <td>66.00</td>\n      <td>전세</td>\n      <td>20181008</td>\n      <td>3000.0</td>\n      <td>0.0</td>\n      <td>2018.0</td>\n      <td>일주동로6496번길</td>\n      <td>3000.0</td>\n      <td>4**</td>\n    </tr>\n    <tr>\n      <th>4024977</th>\n      <td>3622736</td>\n      <td>제주특별자치도 서귀포시 표선면 토산리</td>\n      <td>-</td>\n      <td>49.58</td>\n      <td>전세</td>\n      <td>20181113</td>\n      <td>12000.0</td>\n      <td>0.0</td>\n      <td>NaN</td>\n      <td>NaN</td>\n      <td>12000.0</td>\n      <td>4**</td>\n    </tr>\n    <tr>\n      <th>4024978</th>\n      <td>3622737</td>\n      <td>제주특별자치도 서귀포시 표선면 토산리</td>\n      <td>8m미만</td>\n      <td>66.00</td>\n      <td>전세</td>\n      <td>20181202</td>\n      <td>3000.0</td>\n      <td>0.0</td>\n      <td>2018.0</td>\n      <td>일주동로6496번길</td>\n      <td>3000.0</td>\n      <td>4**</td>\n    </tr>\n  </tbody>\n</table>\n<p>4024979 rows × 12 columns</p>\n</div>"
     },
     "metadata": {},
     "execution_count": 36
    }
   ],
   "source": [
    "df2 = pd.read_csv('merged/단독다가구 전월세.csv', thousands = ',')"
   ]
  },
  {
   "cell_type": "code",
   "execution_count": 39,
   "metadata": {},
   "outputs": [
    {
     "output_type": "stream",
     "name": "stderr",
     "text": [
      "<ipython-input-39-17af575f26e3>:1: UserWarning: Boolean Series key will be reindexed to match DataFrame index.\n  df2[df2['전월세구분'] == '월세'][df2['시군구'].str.startswith('서울')]\n"
     ]
    },
    {
     "output_type": "execute_result",
     "data": {
      "text/plain": [
       "         Unnamed: 0            시군구   도로조건   area 전월세구분      yyyymmdd  deposit  \\\n",
       "215600       215600  서울특별시 강남구 개포동  12m미만  13.20    월세  202010.030.0    300.0   \n",
       "215603       215603  서울특별시 강남구 개포동      -  16.50    월세  202008.001.0    500.0   \n",
       "215604       215604  서울특별시 강남구 개포동      -  16.50    월세  202101.006.0   1000.0   \n",
       "215605       215605  서울특별시 강남구 개포동   8m미만  16.50    월세  202010.009.0   1000.0   \n",
       "215606       215606  서울특별시 강남구 개포동   8m미만  16.50    월세  202011.010.0   2000.0   \n",
       "...             ...            ...    ...    ...   ...           ...      ...   \n",
       "1592350     1190109  서울특별시 강동구 강일동   8m미만  39.00    월세      20120915    300.0   \n",
       "1592355     1190114  서울특별시 강동구 강일동      -  69.00    월세      20141020   4000.0   \n",
       "1592359     1190118  서울특별시 강동구 강일동   8m미만  23.14    월세      20180325    500.0   \n",
       "1592360     1190119  서울특별시 강동구 강일동   8m미만  15.00    월세      20181010     50.0   \n",
       "1592361     1190120  서울특별시 강동구 강일동   8m미만  23.14    월세      20190320    500.0   \n",
       "\n",
       "         rent  builtyear       도로명   price   번지  \n",
       "215600   29.0     1991.0     논현로8길     NaN  NaN  \n",
       "215603   55.0     1992.0       NaN     NaN  NaN  \n",
       "215604   51.0     1992.0       NaN     NaN  NaN  \n",
       "215605   40.0     1990.0    개포로15길     NaN  NaN  \n",
       "215606   35.0        NaN    개포로15길     NaN  NaN  \n",
       "...       ...        ...       ...     ...  ...  \n",
       "1592350  25.0        NaN  아리수로93가길  4050.0  1**  \n",
       "1592355  15.0        NaN  아리수로93가길  6499.0  1**  \n",
       "1592359   5.0        NaN  아리수로93가길  1550.0  1**  \n",
       "1592360   5.0        NaN  아리수로93가길  1094.0  1**  \n",
       "1592361   5.0        NaN  아리수로93가길  1566.0  1**  \n",
       "\n",
       "[677131 rows x 12 columns]"
      ],
      "text/html": "<div>\n<style scoped>\n    .dataframe tbody tr th:only-of-type {\n        vertical-align: middle;\n    }\n\n    .dataframe tbody tr th {\n        vertical-align: top;\n    }\n\n    .dataframe thead th {\n        text-align: right;\n    }\n</style>\n<table border=\"1\" class=\"dataframe\">\n  <thead>\n    <tr style=\"text-align: right;\">\n      <th></th>\n      <th>Unnamed: 0</th>\n      <th>시군구</th>\n      <th>도로조건</th>\n      <th>area</th>\n      <th>전월세구분</th>\n      <th>yyyymmdd</th>\n      <th>deposit</th>\n      <th>rent</th>\n      <th>builtyear</th>\n      <th>도로명</th>\n      <th>price</th>\n      <th>번지</th>\n    </tr>\n  </thead>\n  <tbody>\n    <tr>\n      <th>215600</th>\n      <td>215600</td>\n      <td>서울특별시 강남구 개포동</td>\n      <td>12m미만</td>\n      <td>13.20</td>\n      <td>월세</td>\n      <td>202010.030.0</td>\n      <td>300.0</td>\n      <td>29.0</td>\n      <td>1991.0</td>\n      <td>논현로8길</td>\n      <td>NaN</td>\n      <td>NaN</td>\n    </tr>\n    <tr>\n      <th>215603</th>\n      <td>215603</td>\n      <td>서울특별시 강남구 개포동</td>\n      <td>-</td>\n      <td>16.50</td>\n      <td>월세</td>\n      <td>202008.001.0</td>\n      <td>500.0</td>\n      <td>55.0</td>\n      <td>1992.0</td>\n      <td>NaN</td>\n      <td>NaN</td>\n      <td>NaN</td>\n    </tr>\n    <tr>\n      <th>215604</th>\n      <td>215604</td>\n      <td>서울특별시 강남구 개포동</td>\n      <td>-</td>\n      <td>16.50</td>\n      <td>월세</td>\n      <td>202101.006.0</td>\n      <td>1000.0</td>\n      <td>51.0</td>\n      <td>1992.0</td>\n      <td>NaN</td>\n      <td>NaN</td>\n      <td>NaN</td>\n    </tr>\n    <tr>\n      <th>215605</th>\n      <td>215605</td>\n      <td>서울특별시 강남구 개포동</td>\n      <td>8m미만</td>\n      <td>16.50</td>\n      <td>월세</td>\n      <td>202010.009.0</td>\n      <td>1000.0</td>\n      <td>40.0</td>\n      <td>1990.0</td>\n      <td>개포로15길</td>\n      <td>NaN</td>\n      <td>NaN</td>\n    </tr>\n    <tr>\n      <th>215606</th>\n      <td>215606</td>\n      <td>서울특별시 강남구 개포동</td>\n      <td>8m미만</td>\n      <td>16.50</td>\n      <td>월세</td>\n      <td>202011.010.0</td>\n      <td>2000.0</td>\n      <td>35.0</td>\n      <td>NaN</td>\n      <td>개포로15길</td>\n      <td>NaN</td>\n      <td>NaN</td>\n    </tr>\n    <tr>\n      <th>...</th>\n      <td>...</td>\n      <td>...</td>\n      <td>...</td>\n      <td>...</td>\n      <td>...</td>\n      <td>...</td>\n      <td>...</td>\n      <td>...</td>\n      <td>...</td>\n      <td>...</td>\n      <td>...</td>\n      <td>...</td>\n    </tr>\n    <tr>\n      <th>1592350</th>\n      <td>1190109</td>\n      <td>서울특별시 강동구 강일동</td>\n      <td>8m미만</td>\n      <td>39.00</td>\n      <td>월세</td>\n      <td>20120915</td>\n      <td>300.0</td>\n      <td>25.0</td>\n      <td>NaN</td>\n      <td>아리수로93가길</td>\n      <td>4050.0</td>\n      <td>1**</td>\n    </tr>\n    <tr>\n      <th>1592355</th>\n      <td>1190114</td>\n      <td>서울특별시 강동구 강일동</td>\n      <td>-</td>\n      <td>69.00</td>\n      <td>월세</td>\n      <td>20141020</td>\n      <td>4000.0</td>\n      <td>15.0</td>\n      <td>NaN</td>\n      <td>아리수로93가길</td>\n      <td>6499.0</td>\n      <td>1**</td>\n    </tr>\n    <tr>\n      <th>1592359</th>\n      <td>1190118</td>\n      <td>서울특별시 강동구 강일동</td>\n      <td>8m미만</td>\n      <td>23.14</td>\n      <td>월세</td>\n      <td>20180325</td>\n      <td>500.0</td>\n      <td>5.0</td>\n      <td>NaN</td>\n      <td>아리수로93가길</td>\n      <td>1550.0</td>\n      <td>1**</td>\n    </tr>\n    <tr>\n      <th>1592360</th>\n      <td>1190119</td>\n      <td>서울특별시 강동구 강일동</td>\n      <td>8m미만</td>\n      <td>15.00</td>\n      <td>월세</td>\n      <td>20181010</td>\n      <td>50.0</td>\n      <td>5.0</td>\n      <td>NaN</td>\n      <td>아리수로93가길</td>\n      <td>1094.0</td>\n      <td>1**</td>\n    </tr>\n    <tr>\n      <th>1592361</th>\n      <td>1190120</td>\n      <td>서울특별시 강동구 강일동</td>\n      <td>8m미만</td>\n      <td>23.14</td>\n      <td>월세</td>\n      <td>20190320</td>\n      <td>500.0</td>\n      <td>5.0</td>\n      <td>NaN</td>\n      <td>아리수로93가길</td>\n      <td>1566.0</td>\n      <td>1**</td>\n    </tr>\n  </tbody>\n</table>\n<p>677131 rows × 12 columns</p>\n</div>"
     },
     "metadata": {},
     "execution_count": 39
    }
   ],
   "source": [
    "df2[df2['전월세구분'] == '월세'][df2['시군구'].str.startswith('서울')]"
   ]
  },
  {
   "cell_type": "code",
   "execution_count": null,
   "metadata": {},
   "outputs": [],
   "source": []
  }
 ]
}