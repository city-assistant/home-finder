{
 "cells": [
  {
   "cell_type": "code",
   "execution_count": 139,
   "metadata": {},
   "outputs": [],
   "source": [
    "import pandas as pd\n",
    "import numpy as np\n",
    "import os\n"
   ]
  },
  {
   "cell_type": "code",
   "execution_count": 140,
   "metadata": {
    "tags": []
   },
   "outputs": [
    {
     "output_type": "stream",
     "name": "stderr",
     "text": [
      "C:\\Users\\김재웅\\AppData\\Roaming\\Python\\Python39\\site-packages\\IPython\\core\\interactiveshell.py:3165: DtypeWarning: Columns (2) have mixed types.Specify dtype option on import or set low_memory=False.\n  has_raised = await self.run_ast_nodes(code_ast.body, cell_name,\n"
     ]
    }
   ],
   "source": [
    "\n",
    "dfList = {}\n",
    "folderRecent = '추가 실거래가 데이터_최근 1년'\n",
    "\n",
    "for folder in os.listdir(folderRecent):\n",
    "    for fileName in os.listdir(folderRecent + '/' + folder):\n",
    "        dicName = fileName.split('_')[0].split('(')[0] + ' ' + fileName.split('_')[0].split('(')[1][:-1] if '(' in fileName.split('_')[0] else fileName.split('_')[0]\n",
    "        skiprows = 14 if dicName.startswith('토지') else 15\n",
    "        tempDf = pd.read_csv(folderRecent + '/' + folder + '/' + fileName, skiprows=skiprows, encoding='ANSI')\n",
    "        dfList[dicName] = tempDf if dicName not in dfList else pd.concat([dfList[dicName], tempDf])\n",
    "            \n",
    "for df in dfList:\n",
    "    dfList[df].index = range(len(dfList[df].index))"
   ]
  },
  {
   "cell_type": "code",
   "execution_count": 141,
   "metadata": {},
   "outputs": [],
   "source": [
    "def test(x):\n",
    "        if x<10: return '0'\n",
    "        else: return ''\n",
    "\n",
    "for key in dfList:\n",
    "    dfList[key]['계약년월'] = dfList[key]['계약년월'].astype(str) + dfList[key]['계약일'].apply(test) + dfList[key]['계약일'].astype(str)"
   ]
  },
  {
   "cell_type": "code",
   "execution_count": 142,
   "metadata": {},
   "outputs": [
    {
     "output_type": "stream",
     "name": "stderr",
     "text": [
      "<ipython-input-142-213c3c01d7fd>:3: FutureWarning: The default value of regex will change from True to False in a future version.\n  dfList[key]['계약년월'] = dfList[key]['계약년월'].str.replace('\\.0','',2)\n"
     ]
    }
   ],
   "source": [
    "for key in dfList:\n",
    "    # if key.endswith('월세'):\n",
    "    dfList[key]['계약년월'] = dfList[key]['계약년월'].str.replace('\\.0','',2)"
   ]
  },
  {
   "cell_type": "code",
   "execution_count": 143,
   "metadata": {},
   "outputs": [
    {
     "output_type": "stream",
     "name": "stdout",
     "text": [
      "0         20201224\n1         20201021\n2         20200403\n3         20200618\n4         20201216\n            ...   \n108921    20210108\n108922    20210115\n108923    20210115\n108924    20201022\n108925    20201008\nName: 계약년월, Length: 108926, dtype: object\n0         20200705\n1         20200509\n2         20200509\n3         20200531\n4         20201022\n            ...   \n402236    20200812\n402237    20201108\n402238    20200425\n402239    20210209\n402240    20201123\nName: 계약년월, Length: 402241, dtype: object\n0         20200601\n1         20210201\n2         20210201\n3         20210202\n4         20210202\n            ...   \n102895    20200818\n102896    20200822\n102897    20200909\n102898    20200401\n102899    20200709\nName: 계약년월, Length: 102900, dtype: object\n0        20200730\n1        20200522\n2        20201124\n3        20200312\n4        20200411\n           ...   \n90790    20201209\n90791    20201221\n90792    20201221\n90793    20210126\n90794    20210218\nName: 계약년월, Length: 90795, dtype: object\n0         20200229\n1         20200229\n2         20200304\n3         20200304\n4         20200309\n            ...   \n832107    20210115\n832108    20210118\n832109    20210226\n832110    20200601\n832111    20200819\nName: 계약년월, Length: 832112, dtype: object\n0         20200301\n1         20200318\n2         20200323\n3         20200327\n4         20200330\n            ...   \n781696    20200619\n781697    20200908\n781698    20200910\n781699    20201016\n781700    20201212\nName: 계약년월, Length: 781701, dtype: object\n0         20200923\n1         20200517\n2         20200722\n3         20200604\n4         20200818\n            ...   \n199645    20201109\n199646    20200422\n199647    20210118\n199648    20210227\n199649    20201113\nName: 계약년월, Length: 199650, dtype: object\n0         20200620\n1         20200620\n2         20200318\n3         20200605\n4         20200423\n            ...   \n208121    20200827\n208122    20200305\n208123    20200506\n208124    20200713\n208125    20200730\nName: 계약년월, Length: 208126, dtype: object\n0        20200304\n1        20200305\n2        20200305\n3        20200803\n4        20200812\n           ...   \n51949    20200826\n51950    20200729\n51951    20200602\n51952    20200602\n51953    20200701\nName: 계약년월, Length: 51954, dtype: object\n0        20200828\n1        20210218\n2        20200603\n3        20200604\n4        20200611\n           ...   \n93927    20200909\n93928    20201011\n93929    20201203\n93930    20201230\n93931    20200928\nName: 계약년월, Length: 93932, dtype: object\n0         20200229\n1         20200229\n2         20200229\n3         20200229\n4         20200229\n            ...   \n708610    20210228\n708611    20210228\n708612    20210228\n708613    20210228\n708614    20210228\nName: 계약년월, Length: 708615, dtype: object\n"
     ]
    }
   ],
   "source": [
    "for key in dfList:\n",
    "    print(dfList[key]['계약년월'])"
   ]
  },
  {
   "cell_type": "code",
   "execution_count": 144,
   "metadata": {},
   "outputs": [
    {
     "output_type": "execute_result",
     "data": {
      "text/plain": [
       "                     시군구    번지   도로조건  계약면적(㎡) 전월세구분      계약년월   계약일 보증금(만원)  \\\n",
       "0        강원도 강릉시 강동면 안인리    5*   8m미만    79.30    월세  20200705   5.0     300   \n",
       "1        강원도 강릉시 강동면 안인리   3**   8m미만   167.62    월세  20200509   9.0   2,000   \n",
       "2        강원도 강릉시 강동면 안인리   3**   8m미만   167.62    월세  20200509   9.0   2,000   \n",
       "3        강원도 강릉시 강동면 임곡리   2**   8m미만    45.70    월세  20200531  31.0     100   \n",
       "4       강원도 강릉시 강동면 하시동리   3**   8m미만    50.00    전세  20201022  22.0   2,500   \n",
       "...                  ...   ...    ...      ...   ...       ...   ...     ...   \n",
       "402236      충청북도 충주시 호암동   2**  12m미만    92.00    전세  20200812  12.0   7,000   \n",
       "402237      충청북도 충주시 호암동   1**  12m미만    99.52    전세  20201108   8.0  10,000   \n",
       "402238      충청북도 충주시 호암동  1***  25m미만   101.89    전세  20200425  25.0  15,000   \n",
       "402239      충청북도 충주시 호암동  1***  25m미만   122.74    월세  20210209   9.0   2,000   \n",
       "402240      충청북도 충주시 호암동    6*      -   172.00    전세  20201123  23.0  30,000   \n",
       "\n",
       "       월세(만원)    건축년도     도로명  \n",
       "0        40.0     NaN     NaN  \n",
       "1        70.0  2011.0    원장봉길  \n",
       "2        70.0  2011.0    원장봉길  \n",
       "3        10.0     NaN     임곡로  \n",
       "4         0.0  1998.0     시동길  \n",
       "...       ...     ...     ...  \n",
       "402236      0  2003.0   원호암4길  \n",
       "402237      0  2013.0     직동길  \n",
       "402238      0  2019.0  호암수청8길  \n",
       "402239    110  2021.0  호암토성7길  \n",
       "402240      0  2020.0     방아길  \n",
       "\n",
       "[402241 rows x 11 columns]"
      ],
      "text/html": "<div>\n<style scoped>\n    .dataframe tbody tr th:only-of-type {\n        vertical-align: middle;\n    }\n\n    .dataframe tbody tr th {\n        vertical-align: top;\n    }\n\n    .dataframe thead th {\n        text-align: right;\n    }\n</style>\n<table border=\"1\" class=\"dataframe\">\n  <thead>\n    <tr style=\"text-align: right;\">\n      <th></th>\n      <th>시군구</th>\n      <th>번지</th>\n      <th>도로조건</th>\n      <th>계약면적(㎡)</th>\n      <th>전월세구분</th>\n      <th>계약년월</th>\n      <th>계약일</th>\n      <th>보증금(만원)</th>\n      <th>월세(만원)</th>\n      <th>건축년도</th>\n      <th>도로명</th>\n    </tr>\n  </thead>\n  <tbody>\n    <tr>\n      <th>0</th>\n      <td>강원도 강릉시 강동면 안인리</td>\n      <td>5*</td>\n      <td>8m미만</td>\n      <td>79.30</td>\n      <td>월세</td>\n      <td>20200705</td>\n      <td>5.0</td>\n      <td>300</td>\n      <td>40.0</td>\n      <td>NaN</td>\n      <td>NaN</td>\n    </tr>\n    <tr>\n      <th>1</th>\n      <td>강원도 강릉시 강동면 안인리</td>\n      <td>3**</td>\n      <td>8m미만</td>\n      <td>167.62</td>\n      <td>월세</td>\n      <td>20200509</td>\n      <td>9.0</td>\n      <td>2,000</td>\n      <td>70.0</td>\n      <td>2011.0</td>\n      <td>원장봉길</td>\n    </tr>\n    <tr>\n      <th>2</th>\n      <td>강원도 강릉시 강동면 안인리</td>\n      <td>3**</td>\n      <td>8m미만</td>\n      <td>167.62</td>\n      <td>월세</td>\n      <td>20200509</td>\n      <td>9.0</td>\n      <td>2,000</td>\n      <td>70.0</td>\n      <td>2011.0</td>\n      <td>원장봉길</td>\n    </tr>\n    <tr>\n      <th>3</th>\n      <td>강원도 강릉시 강동면 임곡리</td>\n      <td>2**</td>\n      <td>8m미만</td>\n      <td>45.70</td>\n      <td>월세</td>\n      <td>20200531</td>\n      <td>31.0</td>\n      <td>100</td>\n      <td>10.0</td>\n      <td>NaN</td>\n      <td>임곡로</td>\n    </tr>\n    <tr>\n      <th>4</th>\n      <td>강원도 강릉시 강동면 하시동리</td>\n      <td>3**</td>\n      <td>8m미만</td>\n      <td>50.00</td>\n      <td>전세</td>\n      <td>20201022</td>\n      <td>22.0</td>\n      <td>2,500</td>\n      <td>0.0</td>\n      <td>1998.0</td>\n      <td>시동길</td>\n    </tr>\n    <tr>\n      <th>...</th>\n      <td>...</td>\n      <td>...</td>\n      <td>...</td>\n      <td>...</td>\n      <td>...</td>\n      <td>...</td>\n      <td>...</td>\n      <td>...</td>\n      <td>...</td>\n      <td>...</td>\n      <td>...</td>\n    </tr>\n    <tr>\n      <th>402236</th>\n      <td>충청북도 충주시 호암동</td>\n      <td>2**</td>\n      <td>12m미만</td>\n      <td>92.00</td>\n      <td>전세</td>\n      <td>20200812</td>\n      <td>12.0</td>\n      <td>7,000</td>\n      <td>0</td>\n      <td>2003.0</td>\n      <td>원호암4길</td>\n    </tr>\n    <tr>\n      <th>402237</th>\n      <td>충청북도 충주시 호암동</td>\n      <td>1**</td>\n      <td>12m미만</td>\n      <td>99.52</td>\n      <td>전세</td>\n      <td>20201108</td>\n      <td>8.0</td>\n      <td>10,000</td>\n      <td>0</td>\n      <td>2013.0</td>\n      <td>직동길</td>\n    </tr>\n    <tr>\n      <th>402238</th>\n      <td>충청북도 충주시 호암동</td>\n      <td>1***</td>\n      <td>25m미만</td>\n      <td>101.89</td>\n      <td>전세</td>\n      <td>20200425</td>\n      <td>25.0</td>\n      <td>15,000</td>\n      <td>0</td>\n      <td>2019.0</td>\n      <td>호암수청8길</td>\n    </tr>\n    <tr>\n      <th>402239</th>\n      <td>충청북도 충주시 호암동</td>\n      <td>1***</td>\n      <td>25m미만</td>\n      <td>122.74</td>\n      <td>월세</td>\n      <td>20210209</td>\n      <td>9.0</td>\n      <td>2,000</td>\n      <td>110</td>\n      <td>2021.0</td>\n      <td>호암토성7길</td>\n    </tr>\n    <tr>\n      <th>402240</th>\n      <td>충청북도 충주시 호암동</td>\n      <td>6*</td>\n      <td>-</td>\n      <td>172.00</td>\n      <td>전세</td>\n      <td>20201123</td>\n      <td>23.0</td>\n      <td>30,000</td>\n      <td>0</td>\n      <td>2020.0</td>\n      <td>방아길</td>\n    </tr>\n  </tbody>\n</table>\n<p>402241 rows × 11 columns</p>\n</div>"
     },
     "metadata": {},
     "execution_count": 144
    }
   ],
   "source": [
    "dfList['단독다가구 전월세']"
   ]
  },
  {
   "cell_type": "code",
   "execution_count": 145,
   "metadata": {},
   "outputs": [],
   "source": [
    "newColumns = [['시군구', '번지', '주택유형', '도로조건', 'area', '대지면적(㎡)', 'yyyymmdd', '계약일', 'price', 'builtyear', '도로명', '해제사유발생일'],\n",
    "['시군구', '번지', '도로조건', 'area', '전월세구분', 'yyyymmdd', '계약일', 'deposit', 'rent', 'builtyear', '도로명'],\n",
    "['시군구', '번지', '단지명', 'area', 'price', '층', 'yyyymmdd', '계약일', '분/입구분', '해제사유발생일'],\n",
    "['시군구', '유형', '지번', '도로명', '용도지역', '건축물주용도', '도로조건', 'area', '대지면적(㎡)', '거래금액(만원)', '층', 'yyyymmdd', '계약일', '지분구분', 'builtyear', '해제사유발생일'],\n",
    "['시군구', '번지', '본번', '부번', '단지명', 'area', 'yyyymmdd', '계약일', 'price', '층', 'builtyear', '도로명', '해제사유발생일'],\n",
    "['시군구', '번지', '본번', '부번', '단지명', '전월세구분', 'area', 'yyyymmdd', '계약일', 'deposit', 'rent', '층', 'builtyear', '도로명'],\n",
    "['시군구', '번지', '본번', '부번', '건물명', 'area', '대지권면적(㎡)', 'yyyymmdd', '계약일', 'price', '층', 'builtyear', '도로명', '해제사유발생일'],\n",
    "['시군구', '번지', '본번', '부번', '건물명', '전월세구분', 'area', 'yyyymmdd', '계약일', 'deposit', 'rent', '층', 'builtyear', '도로명'],\n",
    "['시군구', '번지', '본번', '부번', '단지명', 'area', 'yyyymmdd', '계약일', 'price', '층', 'builtyear', '도로명', '해제사유발생일'],\n",
    "['시군구', '번지', '본번', '부번', '단지명', '전월세구분', 'area', 'yyyymmdd', '계약일', 'deposit', 'rent', '층', 'builtyear', '도로명', '건물명'],\n",
    "['시군구', '번지', '지목', '용도지역', '도로조건', 'yyyymmdd', '계약일', 'area', 'price', '지분구분', '해제사유발생일']]\n",
    "i = 0\n",
    "\n",
    "for key in dfList:\n",
    "    dfList[key].columns = newColumns[i]\n",
    "    i += 1\n",
    "\n",
    "\n",
    "# 단독다가구 매매\n",
    "# 단독다가구 전월세\n",
    "# 분양권\n",
    "# 상업업무용 매매\n",
    "# 아파트 매매\n",
    "# 아파트 전월세\n",
    "# 연립다세대 매매\n",
    "# 연립다세대 전월세\n",
    "# 오피스텔 매매\n",
    "# 오피스텔 전월세\n",
    "# 토지 매매\n",
    "\n",
    "\n",
    "\n"
   ]
  },
  {
   "cell_type": "code",
   "execution_count": 146,
   "metadata": {},
   "outputs": [],
   "source": [
    "delCoulumns = ['본번', '부번', '계약일', '해제사유발생일']\n",
    "\n",
    "for key in dfList:\n",
    "    for dc in delCoulumns:\n",
    "        try:\n",
    "            del dfList[key][dc]\n",
    "        except:\n",
    "            pass"
   ]
  },
  {
   "cell_type": "code",
   "execution_count": 147,
   "metadata": {},
   "outputs": [
    {
     "output_type": "execute_result",
     "data": {
      "text/plain": [
       "                     시군구    번지   도로조건    area 전월세구분  yyyymmdd deposit  rent  \\\n",
       "0        강원도 강릉시 강동면 안인리    5*   8m미만   79.30    월세  20200705     300  40.0   \n",
       "1        강원도 강릉시 강동면 안인리   3**   8m미만  167.62    월세  20200509   2,000  70.0   \n",
       "2        강원도 강릉시 강동면 안인리   3**   8m미만  167.62    월세  20200509   2,000  70.0   \n",
       "3        강원도 강릉시 강동면 임곡리   2**   8m미만   45.70    월세  20200531     100  10.0   \n",
       "4       강원도 강릉시 강동면 하시동리   3**   8m미만   50.00    전세  20201022   2,500   0.0   \n",
       "...                  ...   ...    ...     ...   ...       ...     ...   ...   \n",
       "402236      충청북도 충주시 호암동   2**  12m미만   92.00    전세  20200812   7,000     0   \n",
       "402237      충청북도 충주시 호암동   1**  12m미만   99.52    전세  20201108  10,000     0   \n",
       "402238      충청북도 충주시 호암동  1***  25m미만  101.89    전세  20200425  15,000     0   \n",
       "402239      충청북도 충주시 호암동  1***  25m미만  122.74    월세  20210209   2,000   110   \n",
       "402240      충청북도 충주시 호암동    6*      -  172.00    전세  20201123  30,000     0   \n",
       "\n",
       "        builtyear     도로명  \n",
       "0             NaN     NaN  \n",
       "1          2011.0    원장봉길  \n",
       "2          2011.0    원장봉길  \n",
       "3             NaN     임곡로  \n",
       "4          1998.0     시동길  \n",
       "...           ...     ...  \n",
       "402236     2003.0   원호암4길  \n",
       "402237     2013.0     직동길  \n",
       "402238     2019.0  호암수청8길  \n",
       "402239     2021.0  호암토성7길  \n",
       "402240     2020.0     방아길  \n",
       "\n",
       "[402241 rows x 10 columns]"
      ],
      "text/html": "<div>\n<style scoped>\n    .dataframe tbody tr th:only-of-type {\n        vertical-align: middle;\n    }\n\n    .dataframe tbody tr th {\n        vertical-align: top;\n    }\n\n    .dataframe thead th {\n        text-align: right;\n    }\n</style>\n<table border=\"1\" class=\"dataframe\">\n  <thead>\n    <tr style=\"text-align: right;\">\n      <th></th>\n      <th>시군구</th>\n      <th>번지</th>\n      <th>도로조건</th>\n      <th>area</th>\n      <th>전월세구분</th>\n      <th>yyyymmdd</th>\n      <th>deposit</th>\n      <th>rent</th>\n      <th>builtyear</th>\n      <th>도로명</th>\n    </tr>\n  </thead>\n  <tbody>\n    <tr>\n      <th>0</th>\n      <td>강원도 강릉시 강동면 안인리</td>\n      <td>5*</td>\n      <td>8m미만</td>\n      <td>79.30</td>\n      <td>월세</td>\n      <td>20200705</td>\n      <td>300</td>\n      <td>40.0</td>\n      <td>NaN</td>\n      <td>NaN</td>\n    </tr>\n    <tr>\n      <th>1</th>\n      <td>강원도 강릉시 강동면 안인리</td>\n      <td>3**</td>\n      <td>8m미만</td>\n      <td>167.62</td>\n      <td>월세</td>\n      <td>20200509</td>\n      <td>2,000</td>\n      <td>70.0</td>\n      <td>2011.0</td>\n      <td>원장봉길</td>\n    </tr>\n    <tr>\n      <th>2</th>\n      <td>강원도 강릉시 강동면 안인리</td>\n      <td>3**</td>\n      <td>8m미만</td>\n      <td>167.62</td>\n      <td>월세</td>\n      <td>20200509</td>\n      <td>2,000</td>\n      <td>70.0</td>\n      <td>2011.0</td>\n      <td>원장봉길</td>\n    </tr>\n    <tr>\n      <th>3</th>\n      <td>강원도 강릉시 강동면 임곡리</td>\n      <td>2**</td>\n      <td>8m미만</td>\n      <td>45.70</td>\n      <td>월세</td>\n      <td>20200531</td>\n      <td>100</td>\n      <td>10.0</td>\n      <td>NaN</td>\n      <td>임곡로</td>\n    </tr>\n    <tr>\n      <th>4</th>\n      <td>강원도 강릉시 강동면 하시동리</td>\n      <td>3**</td>\n      <td>8m미만</td>\n      <td>50.00</td>\n      <td>전세</td>\n      <td>20201022</td>\n      <td>2,500</td>\n      <td>0.0</td>\n      <td>1998.0</td>\n      <td>시동길</td>\n    </tr>\n    <tr>\n      <th>...</th>\n      <td>...</td>\n      <td>...</td>\n      <td>...</td>\n      <td>...</td>\n      <td>...</td>\n      <td>...</td>\n      <td>...</td>\n      <td>...</td>\n      <td>...</td>\n      <td>...</td>\n    </tr>\n    <tr>\n      <th>402236</th>\n      <td>충청북도 충주시 호암동</td>\n      <td>2**</td>\n      <td>12m미만</td>\n      <td>92.00</td>\n      <td>전세</td>\n      <td>20200812</td>\n      <td>7,000</td>\n      <td>0</td>\n      <td>2003.0</td>\n      <td>원호암4길</td>\n    </tr>\n    <tr>\n      <th>402237</th>\n      <td>충청북도 충주시 호암동</td>\n      <td>1**</td>\n      <td>12m미만</td>\n      <td>99.52</td>\n      <td>전세</td>\n      <td>20201108</td>\n      <td>10,000</td>\n      <td>0</td>\n      <td>2013.0</td>\n      <td>직동길</td>\n    </tr>\n    <tr>\n      <th>402238</th>\n      <td>충청북도 충주시 호암동</td>\n      <td>1***</td>\n      <td>25m미만</td>\n      <td>101.89</td>\n      <td>전세</td>\n      <td>20200425</td>\n      <td>15,000</td>\n      <td>0</td>\n      <td>2019.0</td>\n      <td>호암수청8길</td>\n    </tr>\n    <tr>\n      <th>402239</th>\n      <td>충청북도 충주시 호암동</td>\n      <td>1***</td>\n      <td>25m미만</td>\n      <td>122.74</td>\n      <td>월세</td>\n      <td>20210209</td>\n      <td>2,000</td>\n      <td>110</td>\n      <td>2021.0</td>\n      <td>호암토성7길</td>\n    </tr>\n    <tr>\n      <th>402240</th>\n      <td>충청북도 충주시 호암동</td>\n      <td>6*</td>\n      <td>-</td>\n      <td>172.00</td>\n      <td>전세</td>\n      <td>20201123</td>\n      <td>30,000</td>\n      <td>0</td>\n      <td>2020.0</td>\n      <td>방아길</td>\n    </tr>\n  </tbody>\n</table>\n<p>402241 rows × 10 columns</p>\n</div>"
     },
     "metadata": {},
     "execution_count": 147
    }
   ],
   "source": [
    "dfList['단독다가구 전월세']"
   ]
  },
  {
   "cell_type": "code",
   "execution_count": 62,
   "metadata": {},
   "outputs": [
    {
     "output_type": "stream",
     "name": "stdout",
     "text": [
      "단독다가구 전월세\n                     시군구   도로조건    area 전월세구분  yyyymmdd deposit  rent  \\\n0        강원도 강릉시 강동면 안인리   8m미만   79.30    월세  20200705     300  40.0   \n1        강원도 강릉시 강동면 안인리   8m미만  167.62    월세  20200509   2,000  70.0   \n2        강원도 강릉시 강동면 안인리   8m미만  167.62    월세  20200509   2,000  70.0   \n3        강원도 강릉시 강동면 임곡리   8m미만   45.70    월세  20200531     100  10.0   \n4       강원도 강릉시 강동면 하시동리   8m미만   50.00    전세  20201022   2,500   0.0   \n...                  ...    ...     ...   ...       ...     ...   ...   \n402236      충청북도 충주시 호암동  12m미만   92.00    전세  20200812   7,000     0   \n402237      충청북도 충주시 호암동  12m미만   99.52    전세  20201108  10,000     0   \n402238      충청북도 충주시 호암동  25m미만  101.89    전세  20200425  15,000     0   \n402239      충청북도 충주시 호암동  25m미만  122.74    월세  20210209   2,000   110   \n402240      충청북도 충주시 호암동      -  172.00    전세  20201123  30,000     0   \n\n        builtyear     도로명  \n0             NaN     NaN  \n1          2011.0    원장봉길  \n2          2011.0    원장봉길  \n3             NaN     임곡로  \n4          1998.0     시동길  \n...           ...     ...  \n402236     2003.0   원호암4길  \n402237     2013.0     직동길  \n402238     2019.0  호암수청8길  \n402239     2021.0  호암토성7길  \n402240     2020.0     방아길  \n\n[402241 rows x 9 columns]\n아파트 전월세\n                 시군구         단지명 전월세구분    area  yyyymmdd deposit rent   층  \\\n0        강원도 강릉시 견소동        송정한신    월세  39.080  20200301     500   40  13   \n1        강원도 강릉시 견소동        송정한신    월세  59.800  20200318   1,000   50   1   \n2        강원도 강릉시 견소동        송정한신    전세  59.800  20200323  11,000    0  15   \n3        강원도 강릉시 견소동        송정한신    전세  84.945  20200327  14,000    0  10   \n4        강원도 강릉시 견소동        송정한신    전세  59.800  20200330  12,000    0   9   \n...              ...         ...   ...     ...       ...     ...  ...  ..   \n781696  충청북도 충주시 호암동  호암리버빌(1단지)    전세  84.680  20200619  12,000    0   8   \n781697  충청북도 충주시 호암동  호암리버빌(1단지)    전세  84.680  20200908  12,000    0  14   \n781698  충청북도 충주시 호암동  호암리버빌(1단지)    전세  84.680  20200910  14,000    0  10   \n781699  충청북도 충주시 호암동  호암리버빌(1단지)    월세  84.680  20201016   1,000   50  13   \n781700  충청북도 충주시 호암동  호암리버빌(1단지)    전세  84.680  20201212  13,000    0   1   \n\n        builtyear          도로명  \n0            1997  경강로2539번길 8  \n1            1997  경강로2539번길 8  \n2            1997  경강로2539번길 8  \n3            1997  경강로2539번길 8  \n4            1997  경강로2539번길 8  \n...           ...          ...  \n781696       2002     원호암5길 32  \n781697       2002     원호암5길 32  \n781698       2002     원호암5길 32  \n781699       2002     원호암5길 32  \n781700       2002     원호암5길 32  \n\n[781701 rows x 10 columns]\n연립다세대 전월세\n                 시군구       건물명 전월세구분    area  yyyymmdd deposit rent    층  \\\n0         강원도 강릉시 교동        교동    월세  74.595  20200620   1,000   35  2.0   \n1         강원도 강릉시 교동      교동맨션    전세  84.240  20200620  12,000    0  2.0   \n2         강원도 강릉시 교동        대동    전세  53.230  20200318   2,800    0  1.0   \n3         강원도 강릉시 교동        대동    월세  53.230  20200605   5,000   10  2.0   \n4         강원도 강릉시 교동        이화    월세  56.790  20200423     500   45  2.0   \n...              ...       ...   ...     ...       ...     ...  ...  ...   \n208121  충청북도 충주시 호암동    삼익캐슬2동    전세  72.810  20200827   8,500    0  3.0   \n208122  충청북도 충주시 호암동  삼익캐슬4,5동    전세  66.190  20200305   8,000    0  4.0   \n208123  충청북도 충주시 호암동     스타팰리스    월세  63.150  20200506     500   45  1.0   \n208124  충청북도 충주시 호암동   청실빌라(다)    전세  58.350  20200713   6,000    0  3.0   \n208125  충청북도 충주시 호암동   청실빌라(다)    전세  58.350  20200730   4,000    0  1.0   \n\n        builtyear           도로명  \n0          1982.0    율곡로 2912-1  \n1          1984.0     원대로8번길 42  \n2          1983.0       옛강일길 30  \n3          1983.0       옛강일길 30  \n4          1984.0  율곡로2968번안길 2  \n...           ...           ...  \n208121     2011.0    호암대로 130-2  \n208122     2011.0   호암중앙1로 44-1  \n208123     2020.0        방아길 47  \n208124     1993.0        거룡1길 1  \n208125     1993.0        거룡1길 1  \n\n[208126 rows x 10 columns]\n오피스텔 전월세\n                시군구        단지명 전월세구분   area  yyyymmdd deposit  rent     층  \\\n0        강원도 강릉시 교동   (1883-6)    월세  33.54  20200828     500  65.0   9.0   \n1        강원도 강릉시 교동   (1883-6)    월세  32.99  20210218     500  60.0   9.0   \n2        강원도 강릉시 교동    강릉역 블루핀    전세  22.00  20200603   8,000   0.0   9.0   \n3        강원도 강릉시 교동    강릉역 블루핀    전세  22.00  20200604   8,000   0.0  15.0   \n4        강원도 강릉시 교동    강릉역 블루핀    전세  22.00  20200611   8,000   0.0   5.0   \n...             ...        ...   ...    ...       ...     ...   ...   ...   \n93927  충청북도 충주시 연수동  충주센트럴푸르지오    전세  47.88  20200909  12,500   0.0  25.0   \n93928  충청북도 충주시 연수동  충주센트럴푸르지오    전세  47.88  20201011  10,000   0.0  27.0   \n93929  충청북도 충주시 연수동  충주센트럴푸르지오    월세  47.88  20201203   2,000  55.0  11.0   \n93930  충청북도 충주시 연수동  충주센트럴푸르지오    전세  47.88  20201230  15,000   0.0  21.0   \n93931  충청북도 충주시 충의동   \\t(28)\\t    월세  57.60  20200928   2,000  15.0   3.0   \n\n       builtyear        도로명  건물명  \n0         2019.0  솔올로5번길 47  NaN  \n1         2019.0  솔올로5번길 47  NaN  \n2         2020.0   강릉대로 285  NaN  \n3         2020.0   강릉대로 285  NaN  \n4         2020.0   강릉대로 285  NaN  \n...          ...        ...  ...  \n93927     2018.0             NaN  \n93928     2018.0             NaN  \n93929     2018.0             NaN  \n93930     2018.0             NaN  \n93931     1981.0   충인8길 7-1  NaN  \n\n[93932 rows x 11 columns]\n"
     ]
    }
   ],
   "source": [
    "for key in dfList:\n",
    "    if key.endswith('전월세'):\n",
    "        print(key)\n",
    "        print(dfList[key])"
   ]
  },
  {
   "cell_type": "code",
   "execution_count": 148,
   "metadata": {},
   "outputs": [
    {
     "output_type": "stream",
     "name": "stderr",
     "text": [
      "C:\\Users\\김재웅\\AppData\\Roaming\\Python\\Python39\\site-packages\\IPython\\core\\interactiveshell.py:3165: DtypeWarning: Columns (0) have mixed types.Specify dtype option on import or set low_memory=False.\n  has_raised = await self.run_ast_nodes(code_ast.body, cell_name,\n"
     ]
    }
   ],
   "source": [
    "for fileName in os.listdir('pastData'):\n",
    "    dfList[fileName.split('_')[1]] = pd.concat([dfList[fileName.split('_')[1]], pd.read_csv('pastData/' + fileName, sep='\\t' ,encoding='ANSI')])"
   ]
  },
  {
   "cell_type": "code",
   "execution_count": 150,
   "metadata": {},
   "outputs": [],
   "source": [
    "for key in dfList:\n",
    "    dfList[key].to_csv('merged/' + key + '.csv')"
   ]
  }
 ],
 "metadata": {
  "kernelspec": {
   "name": "python391jvsc74a57bd063fd5069d213b44bf678585dea6b12cceca9941eaf7f819626cde1f2670de90d",
   "display_name": "Python 3.9.1 64-bit"
  },
  "language_info": {
   "codemirror_mode": {
    "name": "ipython",
    "version": 3
   },
   "file_extension": ".py",
   "mimetype": "text/x-python",
   "name": "python",
   "nbconvert_exporter": "python",
   "pygments_lexer": "ipython3",
   "version": "3.9.1-final"
  },
  "metadata": {
   "interpreter": {
    "hash": "63fd5069d213b44bf678585dea6b12cceca9941eaf7f819626cde1f2670de90d"
   }
  }
 },
 "nbformat": 4,
 "nbformat_minor": 4
}