{
 "metadata": {
  "language_info": {
   "codemirror_mode": {
    "name": "ipython",
    "version": 3
   },
   "file_extension": ".py",
   "mimetype": "text/x-python",
   "name": "python",
   "nbconvert_exporter": "python",
   "pygments_lexer": "ipython3",
   "version": "3.9.1-final"
  },
  "orig_nbformat": 2,
  "kernelspec": {
   "name": "python3",
   "display_name": "Python 3.9.1 64-bit",
   "metadata": {
    "interpreter": {
     "hash": "63fd5069d213b44bf678585dea6b12cceca9941eaf7f819626cde1f2670de90d"
    }
   }
  }
 },
 "nbformat": 4,
 "nbformat_minor": 2,
 "cells": [
  {
   "cell_type": "code",
   "execution_count": 60,
   "metadata": {
    "tags": []
   },
   "outputs": [
    {
     "output_type": "stream",
     "name": "stderr",
     "text": [
      "C:\\Users\\김재웅\\AppData\\Roaming\\Python\\Python39\\site-packages\\IPython\\core\\interactiveshell.py:3165: DtypeWarning: Columns (2) have mixed types.Specify dtype option on import or set low_memory=False.\n  has_raised = await self.run_ast_nodes(code_ast.body, cell_name,\n"
     ]
    }
   ],
   "source": [
    "import pandas as pd\n",
    "import os\n",
    "\n",
    "dfList = {}\n",
    "folderRecent = '추가 실거래가 데이터_최근 1년'\n",
    "\n",
    "for folder in os.listdir(folderRecent):\n",
    "    for fileName in os.listdir(folderRecent + '/' + folder):\n",
    "        dicName = fileName.split('_')[0].split('(')[0] + ' ' + fileName.split('_')[0].split('(')[1][:-1] if '(' in fileName.split('_')[0] else fileName.split('_')[0]\n",
    "        skiprows = 14 if dicName.startswith('토지') else 15\n",
    "        tempDf = pd.read_csv(folderRecent + '/' + folder + '/' + fileName, skiprows=skiprows, encoding='ANSI')\n",
    "        dfList[dicName] = tempDf if dicName not in dfList else pd.concat([dfList[dicName], tempDf])\n",
    "            \n",
    "for df in dfList:\n",
    "    dfList[df].index = range(len(dfList[df].index))"
   ]
  },
  {
   "cell_type": "code",
   "execution_count": 63,
   "metadata": {},
   "outputs": [],
   "source": [
    "# def test(x):\n",
    "#         if x<10: return '0'\n",
    "#         else: return ''\n",
    "\n",
    "# for key in dfList:\n",
    "#     dfList[key]['계약년월'] = dfList[key]['계약년월'].astype(str) + dfList[key]['계약일'].apply(test) + dfList[key]['계약일'].astype(str)"
   ]
  },
  {
   "cell_type": "code",
   "execution_count": 66,
   "metadata": {},
   "outputs": [
    {
     "output_type": "execute_result",
     "data": {
      "text/plain": [
       "0         20200229\n",
       "1         20200229\n",
       "2         20200304\n",
       "3         20200304\n",
       "4         20200309\n",
       "            ...   \n",
       "832107    20210115\n",
       "832108    20210118\n",
       "832109    20210226\n",
       "832110    20200601\n",
       "832111    20200819\n",
       "Name: 계약년월, Length: 832112, dtype: object"
      ]
     },
     "metadata": {},
     "execution_count": 66
    }
   ],
   "source": [
    "dfList['아파트 매매']['계약년월']"
   ]
  },
  {
   "cell_type": "code",
   "execution_count": 67,
   "metadata": {},
   "outputs": [],
   "source": [
    "newColumns = [['시군구', '번지', '주택유형', '도로조건', 'area', '대지면적(㎡)', 'yyyymmdd', '계약일', 'price', 'builtyear', '도로명', '해제사유발생일'],\n",
    "['시군구', '번지', '도로조건', 'area', '전월세구분', 'yyyymmdd', '계약일', 'deposit', 'rent', 'builtyear', '도로명'],\n",
    "['시군구', '번지', '단지명', 'area', 'price', '층', 'yyyymmdd', '계약일', '분/입구분', '해제사유발생일'],\n",
    "['시군구', '유형', '지번', '도로명', '용도지역', '건축물주용도', '도로조건', 'area', '대지면적(㎡)', '거래금액(만원)', '층', 'yyyymmdd', '계약일', '지분구분', 'builtyear', '해제사유발생일'],\n",
    "['시군구', '번지', '본번', '부번', '단지명', 'area', 'yyyymmdd', '계약일', 'price', '층', 'builtyear', '도로명', '해제사유발생일'],\n",
    "['시군구', '번지', '본번', '부번', '단지명', '전월세구분', 'area', 'yyyymmdd', '계약일', 'deposit', 'rent', '층', 'builtyear', '도로명'],\n",
    "['시군구', '번지', '본번', '부번', '건물명', 'area', '대지권면적(㎡)', 'yyyymmdd', '계약일', 'price', '층', 'builtyear', '도로명', '해제사유발생일'],\n",
    "['시군구', '번지', '본번', '부번', '건물명', '전월세구분', 'area', 'yyyymmdd', '계약일', 'deposit', 'rent', '층', 'builtyear', '도로명'],\n",
    "['시군구', '번지', '본번', '부번', '단지명', 'area', 'yyyymmdd', '계약일', 'price', '층', 'builtyear', '도로명', '해제사유발생일'],\n",
    "['시군구', '번지', '본번', '부번', '단지명', '전월세구분', 'area', 'yyyymmdd', '계약일', 'deposit', 'rent', '층', 'builtyear', '도로명', '건물명'],\n",
    "['시군구', '번지', '지목', '용도지역', '도로조건', 'yyyymmdd', '계약일', 'area', 'price', '지분구분', '해제사유발생일']]\n",
    "i = 0\n",
    "\n",
    "for key in dfList:\n",
    "    dfList[key].columns = newColumns[i]\n",
    "    i += 1\n",
    "\n",
    "\n",
    "# 단독다가구 매매\n",
    "# 단독다가구 전월세\n",
    "# 분양권\n",
    "# 상업업무용 매매\n",
    "# 아파트 매매\n",
    "# 아파트 전월세\n",
    "# 연립다세대 매매\n",
    "# 연립다세대 전월세\n",
    "# 오피스텔 매매\n",
    "# 오피스텔 전월세\n",
    "# 토지 매매\n",
    "\n",
    "\n",
    "\n"
   ]
  },
  {
   "cell_type": "code",
   "execution_count": 68,
   "metadata": {},
   "outputs": [],
   "source": [
    "delCoulumns = ['번지', '본번', '부번', '계약일', '해제사유발생일']\n",
    "\n",
    "for key in dfList:\n",
    "    for dc in delCoulumns:\n",
    "        try:\n",
    "            del dfList[key][dc]\n",
    "        except:\n",
    "            pass"
   ]
  },
  {
   "cell_type": "code",
   "execution_count": 69,
   "metadata": {},
   "outputs": [
    {
     "output_type": "execute_result",
     "data": {
      "text/plain": [
       "                     시군구 주택유형  도로조건    area  대지면적(㎡)  yyyymmdd   price  \\\n",
       "0        강원도 강릉시 강동면 모전리   단독  8m미만  158.95    615.0  20201224  28,414   \n",
       "1       강원도 강릉시 강동면 상시동리   단독  8m미만  101.88    326.0  20201021  11,500   \n",
       "2       강원도 강릉시 강동면 상시동리   단독  8m미만  117.70    562.0  20200403  17,000   \n",
       "3       강원도 강릉시 강동면 상시동리   단독  8m미만   96.48    579.0  20200618  16,800   \n",
       "4       강원도 강릉시 강동면 상시동리   단독  8m미만  162.20    670.0  20201216  25,528   \n",
       "...                  ...  ...   ...     ...      ...       ...     ...   \n",
       "108921      충청북도 충주시 호암동   단독  8m미만  134.10    397.0  20210108  35,000   \n",
       "108922      충청북도 충주시 호암동   단독  8m미만   99.02    412.0  20210115  33,000   \n",
       "108923      충청북도 충주시 호암동   단독  8m미만   99.02    423.0  20210115  33,500   \n",
       "108924      충청북도 충주시 호암동   단독     -   99.57    522.0  20201022  30,000   \n",
       "108925      충청북도 충주시 호암동   단독  8m미만   97.80    548.0  20201008  34,500   \n",
       "\n",
       "        builtyear    도로명  \n",
       "0          2017.0   범울재길  \n",
       "1          2011.0    와천로  \n",
       "2          2005.0   시동1길  \n",
       "3          1997.0    독송길  \n",
       "4          2005.0    와천로  \n",
       "...           ...    ...  \n",
       "108921     2017.0  도장관주로  \n",
       "108922     2021.0   범바위길  \n",
       "108923     2015.0   범바위길  \n",
       "108924     2020.0    방아길  \n",
       "108925     2014.0  도장관주로  \n",
       "\n",
       "[108926 rows x 9 columns]"
      ],
      "text/html": "<div>\n<style scoped>\n    .dataframe tbody tr th:only-of-type {\n        vertical-align: middle;\n    }\n\n    .dataframe tbody tr th {\n        vertical-align: top;\n    }\n\n    .dataframe thead th {\n        text-align: right;\n    }\n</style>\n<table border=\"1\" class=\"dataframe\">\n  <thead>\n    <tr style=\"text-align: right;\">\n      <th></th>\n      <th>시군구</th>\n      <th>주택유형</th>\n      <th>도로조건</th>\n      <th>area</th>\n      <th>대지면적(㎡)</th>\n      <th>yyyymmdd</th>\n      <th>price</th>\n      <th>builtyear</th>\n      <th>도로명</th>\n    </tr>\n  </thead>\n  <tbody>\n    <tr>\n      <th>0</th>\n      <td>강원도 강릉시 강동면 모전리</td>\n      <td>단독</td>\n      <td>8m미만</td>\n      <td>158.95</td>\n      <td>615.0</td>\n      <td>20201224</td>\n      <td>28,414</td>\n      <td>2017.0</td>\n      <td>범울재길</td>\n    </tr>\n    <tr>\n      <th>1</th>\n      <td>강원도 강릉시 강동면 상시동리</td>\n      <td>단독</td>\n      <td>8m미만</td>\n      <td>101.88</td>\n      <td>326.0</td>\n      <td>20201021</td>\n      <td>11,500</td>\n      <td>2011.0</td>\n      <td>와천로</td>\n    </tr>\n    <tr>\n      <th>2</th>\n      <td>강원도 강릉시 강동면 상시동리</td>\n      <td>단독</td>\n      <td>8m미만</td>\n      <td>117.70</td>\n      <td>562.0</td>\n      <td>20200403</td>\n      <td>17,000</td>\n      <td>2005.0</td>\n      <td>시동1길</td>\n    </tr>\n    <tr>\n      <th>3</th>\n      <td>강원도 강릉시 강동면 상시동리</td>\n      <td>단독</td>\n      <td>8m미만</td>\n      <td>96.48</td>\n      <td>579.0</td>\n      <td>20200618</td>\n      <td>16,800</td>\n      <td>1997.0</td>\n      <td>독송길</td>\n    </tr>\n    <tr>\n      <th>4</th>\n      <td>강원도 강릉시 강동면 상시동리</td>\n      <td>단독</td>\n      <td>8m미만</td>\n      <td>162.20</td>\n      <td>670.0</td>\n      <td>20201216</td>\n      <td>25,528</td>\n      <td>2005.0</td>\n      <td>와천로</td>\n    </tr>\n    <tr>\n      <th>...</th>\n      <td>...</td>\n      <td>...</td>\n      <td>...</td>\n      <td>...</td>\n      <td>...</td>\n      <td>...</td>\n      <td>...</td>\n      <td>...</td>\n      <td>...</td>\n    </tr>\n    <tr>\n      <th>108921</th>\n      <td>충청북도 충주시 호암동</td>\n      <td>단독</td>\n      <td>8m미만</td>\n      <td>134.10</td>\n      <td>397.0</td>\n      <td>20210108</td>\n      <td>35,000</td>\n      <td>2017.0</td>\n      <td>도장관주로</td>\n    </tr>\n    <tr>\n      <th>108922</th>\n      <td>충청북도 충주시 호암동</td>\n      <td>단독</td>\n      <td>8m미만</td>\n      <td>99.02</td>\n      <td>412.0</td>\n      <td>20210115</td>\n      <td>33,000</td>\n      <td>2021.0</td>\n      <td>범바위길</td>\n    </tr>\n    <tr>\n      <th>108923</th>\n      <td>충청북도 충주시 호암동</td>\n      <td>단독</td>\n      <td>8m미만</td>\n      <td>99.02</td>\n      <td>423.0</td>\n      <td>20210115</td>\n      <td>33,500</td>\n      <td>2015.0</td>\n      <td>범바위길</td>\n    </tr>\n    <tr>\n      <th>108924</th>\n      <td>충청북도 충주시 호암동</td>\n      <td>단독</td>\n      <td>-</td>\n      <td>99.57</td>\n      <td>522.0</td>\n      <td>20201022</td>\n      <td>30,000</td>\n      <td>2020.0</td>\n      <td>방아길</td>\n    </tr>\n    <tr>\n      <th>108925</th>\n      <td>충청북도 충주시 호암동</td>\n      <td>단독</td>\n      <td>8m미만</td>\n      <td>97.80</td>\n      <td>548.0</td>\n      <td>20201008</td>\n      <td>34,500</td>\n      <td>2014.0</td>\n      <td>도장관주로</td>\n    </tr>\n  </tbody>\n</table>\n<p>108926 rows × 9 columns</p>\n</div>"
     },
     "metadata": {},
     "execution_count": 69
    }
   ],
   "source": [
    "dfList['단독다가구 매매']"
   ]
  },
  {
   "cell_type": "code",
   "execution_count": 71,
   "metadata": {},
   "outputs": [
    {
     "output_type": "execute_result",
     "data": {
      "text/plain": [
       "                    시군구  유형   지번     도로명     용도지역   건축물주용도   도로조건    area  \\\n",
       "0       강원도 강릉시 강동면 모전리  일반  7**   윗장작골길     계획관리  제2종근린생활   8m미만  490.04   \n",
       "1      강원도 강릉시 강동면 정동진리  일반   4*     헌화로     계획관리  제1종근린생활  12m미만   98.25   \n",
       "2      강원도 강릉시 강동면 정동진리  일반   1*     헌화로     계획관리  제1종근린생활  12m미만  558.55   \n",
       "3           강원도 강릉시 강문동  일반  1**  초당순두부길     자연녹지  제2종근린생활  12m미만   63.92   \n",
       "4           강원도 강릉시 강문동  집합    *     창해로     계획관리       숙박  12m미만   27.45   \n",
       "...                 ...  ..  ...     ...      ...      ...    ...     ...   \n",
       "90790      충청북도 충주시 호암동  일반  7**   도장관주로     자연녹지  제2종근린생활  25m미만  268.29   \n",
       "90791      충청북도 충주시 호암동  집합  9**  호암수청2로  제2종일반주거  제1종근린생활  25m미만   95.40   \n",
       "90792      충청북도 충주시 호암동  집합  9**  호암수청2로  제2종일반주거  제1종근린생활  25m미만   98.58   \n",
       "90793      충청북도 충주시 호암동  일반  4**   도장관주로     자연녹지  제2종근린생활   8m미만   10.00   \n",
       "90794      충청북도 충주시 호암동  일반  6**   상아배이길     자연녹지  제1종근린생활   8m미만   59.34   \n",
       "\n",
       "       대지면적(㎡) 거래금액(만원)     층  yyyymmdd 지분구분  builtyear  \n",
       "0      8323.00   10,000   NaN  20200730          1998.0  \n",
       "1       102.00   17,000   NaN  20200522          1998.0  \n",
       "2       409.00   62,000   NaN  20201124          1999.0  \n",
       "3       340.00   66,853   NaN  20200312          1998.0  \n",
       "4                20,000  14.0  20200411          2018.0  \n",
       "...        ...      ...   ...       ...  ...        ...  \n",
       "90790  2000.00  100,000   NaN  20201209          2006.0  \n",
       "90791            34,080   5.0  20201221          2019.0  \n",
       "90792            34,080   5.0  20201221          2019.0  \n",
       "90793    63.00    2,630   NaN  20210126          2020.0  \n",
       "90794    99.00   15,000   NaN  20210218          2002.0  \n",
       "\n",
       "[90795 rows x 14 columns]"
      ],
      "text/html": "<div>\n<style scoped>\n    .dataframe tbody tr th:only-of-type {\n        vertical-align: middle;\n    }\n\n    .dataframe tbody tr th {\n        vertical-align: top;\n    }\n\n    .dataframe thead th {\n        text-align: right;\n    }\n</style>\n<table border=\"1\" class=\"dataframe\">\n  <thead>\n    <tr style=\"text-align: right;\">\n      <th></th>\n      <th>시군구</th>\n      <th>유형</th>\n      <th>지번</th>\n      <th>도로명</th>\n      <th>용도지역</th>\n      <th>건축물주용도</th>\n      <th>도로조건</th>\n      <th>area</th>\n      <th>대지면적(㎡)</th>\n      <th>거래금액(만원)</th>\n      <th>층</th>\n      <th>yyyymmdd</th>\n      <th>지분구분</th>\n      <th>builtyear</th>\n    </tr>\n  </thead>\n  <tbody>\n    <tr>\n      <th>0</th>\n      <td>강원도 강릉시 강동면 모전리</td>\n      <td>일반</td>\n      <td>7**</td>\n      <td>윗장작골길</td>\n      <td>계획관리</td>\n      <td>제2종근린생활</td>\n      <td>8m미만</td>\n      <td>490.04</td>\n      <td>8323.00</td>\n      <td>10,000</td>\n      <td>NaN</td>\n      <td>20200730</td>\n      <td></td>\n      <td>1998.0</td>\n    </tr>\n    <tr>\n      <th>1</th>\n      <td>강원도 강릉시 강동면 정동진리</td>\n      <td>일반</td>\n      <td>4*</td>\n      <td>헌화로</td>\n      <td>계획관리</td>\n      <td>제1종근린생활</td>\n      <td>12m미만</td>\n      <td>98.25</td>\n      <td>102.00</td>\n      <td>17,000</td>\n      <td>NaN</td>\n      <td>20200522</td>\n      <td></td>\n      <td>1998.0</td>\n    </tr>\n    <tr>\n      <th>2</th>\n      <td>강원도 강릉시 강동면 정동진리</td>\n      <td>일반</td>\n      <td>1*</td>\n      <td>헌화로</td>\n      <td>계획관리</td>\n      <td>제1종근린생활</td>\n      <td>12m미만</td>\n      <td>558.55</td>\n      <td>409.00</td>\n      <td>62,000</td>\n      <td>NaN</td>\n      <td>20201124</td>\n      <td></td>\n      <td>1999.0</td>\n    </tr>\n    <tr>\n      <th>3</th>\n      <td>강원도 강릉시 강문동</td>\n      <td>일반</td>\n      <td>1**</td>\n      <td>초당순두부길</td>\n      <td>자연녹지</td>\n      <td>제2종근린생활</td>\n      <td>12m미만</td>\n      <td>63.92</td>\n      <td>340.00</td>\n      <td>66,853</td>\n      <td>NaN</td>\n      <td>20200312</td>\n      <td></td>\n      <td>1998.0</td>\n    </tr>\n    <tr>\n      <th>4</th>\n      <td>강원도 강릉시 강문동</td>\n      <td>집합</td>\n      <td>*</td>\n      <td>창해로</td>\n      <td>계획관리</td>\n      <td>숙박</td>\n      <td>12m미만</td>\n      <td>27.45</td>\n      <td></td>\n      <td>20,000</td>\n      <td>14.0</td>\n      <td>20200411</td>\n      <td></td>\n      <td>2018.0</td>\n    </tr>\n    <tr>\n      <th>...</th>\n      <td>...</td>\n      <td>...</td>\n      <td>...</td>\n      <td>...</td>\n      <td>...</td>\n      <td>...</td>\n      <td>...</td>\n      <td>...</td>\n      <td>...</td>\n      <td>...</td>\n      <td>...</td>\n      <td>...</td>\n      <td>...</td>\n      <td>...</td>\n    </tr>\n    <tr>\n      <th>90790</th>\n      <td>충청북도 충주시 호암동</td>\n      <td>일반</td>\n      <td>7**</td>\n      <td>도장관주로</td>\n      <td>자연녹지</td>\n      <td>제2종근린생활</td>\n      <td>25m미만</td>\n      <td>268.29</td>\n      <td>2000.00</td>\n      <td>100,000</td>\n      <td>NaN</td>\n      <td>20201209</td>\n      <td></td>\n      <td>2006.0</td>\n    </tr>\n    <tr>\n      <th>90791</th>\n      <td>충청북도 충주시 호암동</td>\n      <td>집합</td>\n      <td>9**</td>\n      <td>호암수청2로</td>\n      <td>제2종일반주거</td>\n      <td>제1종근린생활</td>\n      <td>25m미만</td>\n      <td>95.40</td>\n      <td></td>\n      <td>34,080</td>\n      <td>5.0</td>\n      <td>20201221</td>\n      <td></td>\n      <td>2019.0</td>\n    </tr>\n    <tr>\n      <th>90792</th>\n      <td>충청북도 충주시 호암동</td>\n      <td>집합</td>\n      <td>9**</td>\n      <td>호암수청2로</td>\n      <td>제2종일반주거</td>\n      <td>제1종근린생활</td>\n      <td>25m미만</td>\n      <td>98.58</td>\n      <td></td>\n      <td>34,080</td>\n      <td>5.0</td>\n      <td>20201221</td>\n      <td></td>\n      <td>2019.0</td>\n    </tr>\n    <tr>\n      <th>90793</th>\n      <td>충청북도 충주시 호암동</td>\n      <td>일반</td>\n      <td>4**</td>\n      <td>도장관주로</td>\n      <td>자연녹지</td>\n      <td>제2종근린생활</td>\n      <td>8m미만</td>\n      <td>10.00</td>\n      <td>63.00</td>\n      <td>2,630</td>\n      <td>NaN</td>\n      <td>20210126</td>\n      <td></td>\n      <td>2020.0</td>\n    </tr>\n    <tr>\n      <th>90794</th>\n      <td>충청북도 충주시 호암동</td>\n      <td>일반</td>\n      <td>6**</td>\n      <td>상아배이길</td>\n      <td>자연녹지</td>\n      <td>제1종근린생활</td>\n      <td>8m미만</td>\n      <td>59.34</td>\n      <td>99.00</td>\n      <td>15,000</td>\n      <td>NaN</td>\n      <td>20210218</td>\n      <td></td>\n      <td>2002.0</td>\n    </tr>\n  </tbody>\n</table>\n<p>90795 rows × 14 columns</p>\n</div>"
     },
     "metadata": {},
     "execution_count": 71
    }
   ],
   "source": [
    "dfList['상업업무용 매매']\n",
    "# dfList['상업업무용 매매']['계약년월']\n"
   ]
  },
  {
   "cell_type": "code",
   "execution_count": 74,
   "metadata": {},
   "outputs": [
    {
     "output_type": "execute_result",
     "data": {
      "text/plain": [
       "dict_keys(['단독다가구 매매', '단독다가구 전월세', '분양권', '상업업무용 매매', '아파트 매매', '아파트 전월세', '연립다세대 매매', '연립다세대 전월세', '오피스텔 매매', '오피스텔 전월세', '토지 매매'])"
      ]
     },
     "metadata": {},
     "execution_count": 74
    }
   ],
   "source": [
    "dfList.keys()"
   ]
  },
  {
   "cell_type": "code",
   "execution_count": 75,
   "metadata": {},
   "outputs": [
    {
     "output_type": "stream",
     "name": "stderr",
     "text": [
      "C:\\Users\\김재웅\\AppData\\Roaming\\Python\\Python39\\site-packages\\IPython\\core\\interactiveshell.py:3165: DtypeWarning: Columns (0) have mixed types.Specify dtype option on import or set low_memory=False.\n  has_raised = await self.run_ast_nodes(code_ast.body, cell_name,\n"
     ]
    }
   ],
   "source": [
    "for fileName in os.listdir('pastData'):\n",
    "    dfList[fileName.split('_')[1]] = pd.concat([dfList[fileName.split('_')[1]], pd.read_csv('pastData/' + fileName, sep='\\t' ,encoding='ANSI')])"
   ]
  },
  {
   "cell_type": "code",
   "execution_count": 77,
   "metadata": {},
   "outputs": [],
   "source": [
    "delCoulumns = ['pnu', 'x', 'y', 'count', 'withoutRent']\n",
    "for key in dfList:\n",
    "    for dc in delCoulumns:\n",
    "        del dfList[key][dc]"
   ]
  },
  {
   "cell_type": "code",
   "execution_count": 85,
   "metadata": {},
   "outputs": [],
   "source": [
    "# for key in dfList:\n",
    "#     try:\n",
    "#         dfList[key]['builtyear'] = dfList[key]['builtyear'].astype(int)\n",
    "#     except:\n",
    "#         pass\n",
    "for key in dfList:\n",
    "    dfList[key].to_csv('merged/' + key + '.csv')"
   ]
  },
  {
   "cell_type": "code",
   "execution_count": 37,
   "metadata": {},
   "outputs": [
    {
     "output_type": "stream",
     "name": "stderr",
     "text": [
      "C:\\Users\\김재웅\\AppData\\Roaming\\Python\\Python39\\site-packages\\IPython\\core\\interactiveshell.py:3165: DtypeWarning: Columns (0) have mixed types.Specify dtype option on import or set low_memory=False.\n  has_raised = await self.run_ast_nodes(code_ast.body, cell_name,\n"
     ]
    },
    {
     "output_type": "execute_result",
     "data": {
      "text/plain": [
       "                          시군구   단지명      area  yyyymmdd   price   층  \\\n",
       "0                 강원도 강릉시 견소동  송정한신   84.9450  20200229  16,500  11   \n",
       "1                 강원도 강릉시 견소동  송정한신   84.9450  20200229  14,900   5   \n",
       "2                 강원도 강릉시 견소동  송정한신   84.9300   2020034  16,300  10   \n",
       "3                 강원도 강릉시 견소동  송정한신   59.8000   2020034  10,800   2   \n",
       "4                 강원도 강릉시 견소동  송정한신   59.8000   2020039   9,700   1   \n",
       "...                       ...   ...       ...       ...     ...  ..   \n",
       "8143133  제주특별자치도 서귀포시 표선면 표선리   다움채   80.9348  20181010   27800   2   \n",
       "8143134  제주특별자치도 서귀포시 표선면 표선리   다움채   80.9348  20181122   28300   4   \n",
       "8143135  제주특별자치도 서귀포시 표선면 표선리   다움채   80.9348  20181203   27000   1   \n",
       "8143136  제주특별자치도 서귀포시 표선면 표선리   다움채  132.0305  20170714   48800   6   \n",
       "8143137  제주특별자치도 서귀포시 표선면 표선리   다움채  136.5058  20170714   48800   6   \n",
       "\n",
       "         builtyear          도로명                  pnu         x          y  \\\n",
       "0           1997.0  경강로2539번길 8                  NaN       NaN        NaN   \n",
       "1           1997.0  경강로2539번길 8                  NaN       NaN        NaN   \n",
       "2           1997.0  경강로2539번길 8                  NaN       NaN        NaN   \n",
       "3           1997.0  경강로2539번길 8                  NaN       NaN        NaN   \n",
       "4           1997.0  경강로2539번길 8                  NaN       NaN        NaN   \n",
       "...            ...          ...                  ...       ...        ...   \n",
       "8143133     2017.0  표선관정로 70-11  5013032021116080004  937455.4  1481690.4   \n",
       "8143134     2017.0  표선관정로 70-11  5013032021116080004  937456.0  1481690.0   \n",
       "8143135     2017.0  표선관정로 70-11  5013032021116080004  937455.6  1481690.5   \n",
       "8143136     2017.0  표선관정로 70-11  5013032021116080004  937455.9  1481690.0   \n",
       "8143137     2017.0  표선관정로 70-11  5013032021116080004  937456.5  1481689.6   \n",
       "\n",
       "         count  withoutRent  \n",
       "0          NaN          NaN  \n",
       "1          NaN          NaN  \n",
       "2          NaN          NaN  \n",
       "3          NaN          NaN  \n",
       "4          NaN          NaN  \n",
       "...        ...          ...  \n",
       "8143133   15.0          1.0  \n",
       "8143134   15.0          1.0  \n",
       "8143135   15.0          1.0  \n",
       "8143136   15.0          1.0  \n",
       "8143137   15.0          1.0  \n",
       "\n",
       "[8975250 rows x 13 columns]"
      ],
      "text/html": "<div>\n<style scoped>\n    .dataframe tbody tr th:only-of-type {\n        vertical-align: middle;\n    }\n\n    .dataframe tbody tr th {\n        vertical-align: top;\n    }\n\n    .dataframe thead th {\n        text-align: right;\n    }\n</style>\n<table border=\"1\" class=\"dataframe\">\n  <thead>\n    <tr style=\"text-align: right;\">\n      <th></th>\n      <th>시군구</th>\n      <th>단지명</th>\n      <th>area</th>\n      <th>yyyymmdd</th>\n      <th>price</th>\n      <th>층</th>\n      <th>builtyear</th>\n      <th>도로명</th>\n      <th>pnu</th>\n      <th>x</th>\n      <th>y</th>\n      <th>count</th>\n      <th>withoutRent</th>\n    </tr>\n  </thead>\n  <tbody>\n    <tr>\n      <th>0</th>\n      <td>강원도 강릉시 견소동</td>\n      <td>송정한신</td>\n      <td>84.9450</td>\n      <td>20200229</td>\n      <td>16,500</td>\n      <td>11</td>\n      <td>1997.0</td>\n      <td>경강로2539번길 8</td>\n      <td>NaN</td>\n      <td>NaN</td>\n      <td>NaN</td>\n      <td>NaN</td>\n      <td>NaN</td>\n    </tr>\n    <tr>\n      <th>1</th>\n      <td>강원도 강릉시 견소동</td>\n      <td>송정한신</td>\n      <td>84.9450</td>\n      <td>20200229</td>\n      <td>14,900</td>\n      <td>5</td>\n      <td>1997.0</td>\n      <td>경강로2539번길 8</td>\n      <td>NaN</td>\n      <td>NaN</td>\n      <td>NaN</td>\n      <td>NaN</td>\n      <td>NaN</td>\n    </tr>\n    <tr>\n      <th>2</th>\n      <td>강원도 강릉시 견소동</td>\n      <td>송정한신</td>\n      <td>84.9300</td>\n      <td>2020034</td>\n      <td>16,300</td>\n      <td>10</td>\n      <td>1997.0</td>\n      <td>경강로2539번길 8</td>\n      <td>NaN</td>\n      <td>NaN</td>\n      <td>NaN</td>\n      <td>NaN</td>\n      <td>NaN</td>\n    </tr>\n    <tr>\n      <th>3</th>\n      <td>강원도 강릉시 견소동</td>\n      <td>송정한신</td>\n      <td>59.8000</td>\n      <td>2020034</td>\n      <td>10,800</td>\n      <td>2</td>\n      <td>1997.0</td>\n      <td>경강로2539번길 8</td>\n      <td>NaN</td>\n      <td>NaN</td>\n      <td>NaN</td>\n      <td>NaN</td>\n      <td>NaN</td>\n    </tr>\n    <tr>\n      <th>4</th>\n      <td>강원도 강릉시 견소동</td>\n      <td>송정한신</td>\n      <td>59.8000</td>\n      <td>2020039</td>\n      <td>9,700</td>\n      <td>1</td>\n      <td>1997.0</td>\n      <td>경강로2539번길 8</td>\n      <td>NaN</td>\n      <td>NaN</td>\n      <td>NaN</td>\n      <td>NaN</td>\n      <td>NaN</td>\n    </tr>\n    <tr>\n      <th>...</th>\n      <td>...</td>\n      <td>...</td>\n      <td>...</td>\n      <td>...</td>\n      <td>...</td>\n      <td>...</td>\n      <td>...</td>\n      <td>...</td>\n      <td>...</td>\n      <td>...</td>\n      <td>...</td>\n      <td>...</td>\n      <td>...</td>\n    </tr>\n    <tr>\n      <th>8143133</th>\n      <td>제주특별자치도 서귀포시 표선면 표선리</td>\n      <td>다움채</td>\n      <td>80.9348</td>\n      <td>20181010</td>\n      <td>27800</td>\n      <td>2</td>\n      <td>2017.0</td>\n      <td>표선관정로 70-11</td>\n      <td>5013032021116080004</td>\n      <td>937455.4</td>\n      <td>1481690.4</td>\n      <td>15.0</td>\n      <td>1.0</td>\n    </tr>\n    <tr>\n      <th>8143134</th>\n      <td>제주특별자치도 서귀포시 표선면 표선리</td>\n      <td>다움채</td>\n      <td>80.9348</td>\n      <td>20181122</td>\n      <td>28300</td>\n      <td>4</td>\n      <td>2017.0</td>\n      <td>표선관정로 70-11</td>\n      <td>5013032021116080004</td>\n      <td>937456.0</td>\n      <td>1481690.0</td>\n      <td>15.0</td>\n      <td>1.0</td>\n    </tr>\n    <tr>\n      <th>8143135</th>\n      <td>제주특별자치도 서귀포시 표선면 표선리</td>\n      <td>다움채</td>\n      <td>80.9348</td>\n      <td>20181203</td>\n      <td>27000</td>\n      <td>1</td>\n      <td>2017.0</td>\n      <td>표선관정로 70-11</td>\n      <td>5013032021116080004</td>\n      <td>937455.6</td>\n      <td>1481690.5</td>\n      <td>15.0</td>\n      <td>1.0</td>\n    </tr>\n    <tr>\n      <th>8143136</th>\n      <td>제주특별자치도 서귀포시 표선면 표선리</td>\n      <td>다움채</td>\n      <td>132.0305</td>\n      <td>20170714</td>\n      <td>48800</td>\n      <td>6</td>\n      <td>2017.0</td>\n      <td>표선관정로 70-11</td>\n      <td>5013032021116080004</td>\n      <td>937455.9</td>\n      <td>1481690.0</td>\n      <td>15.0</td>\n      <td>1.0</td>\n    </tr>\n    <tr>\n      <th>8143137</th>\n      <td>제주특별자치도 서귀포시 표선면 표선리</td>\n      <td>다움채</td>\n      <td>136.5058</td>\n      <td>20170714</td>\n      <td>48800</td>\n      <td>6</td>\n      <td>2017.0</td>\n      <td>표선관정로 70-11</td>\n      <td>5013032021116080004</td>\n      <td>937456.5</td>\n      <td>1481689.6</td>\n      <td>15.0</td>\n      <td>1.0</td>\n    </tr>\n  </tbody>\n</table>\n<p>8975250 rows × 13 columns</p>\n</div>"
     },
     "metadata": {},
     "execution_count": 37
    }
   ],
   "source": [
    "pd.concat([dfList['아파트 매매'], pd.read_csv('pastData/' + '0_아파트 매매_all_reordered.tsv', sep='\\t' ,encoding='ANSI')])"
   ]
  },
  {
   "cell_type": "code",
   "execution_count": null,
   "metadata": {},
   "outputs": [],
   "source": [
    "'pnu\tx\ty\tcount\tyyyymmdd\tarea\tprice\twithoutRent\tdeposit\trent\tbuiltyear', '가 7번 이후'\r\n",
    "'pnu\tx\ty\tcount\tyyyymmdd\tarea\tprice\twithoutRent\tbuiltyear', '0~6'"
   ]
  }
 ]
}